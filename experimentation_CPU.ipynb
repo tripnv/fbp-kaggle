{
 "cells": [
  {
   "cell_type": "code",
   "execution_count": 70,
   "metadata": {},
   "outputs": [],
   "source": [
    "import pandas as pd\n",
    "import numpy as np\n",
    "import gc"
   ]
  },
  {
   "cell_type": "code",
   "execution_count": 71,
   "metadata": {},
   "outputs": [],
   "source": [
    "import mlflow\n",
    "from mlflow.tracking import MlflowClient\n",
    "import time "
   ]
  },
  {
   "cell_type": "code",
   "execution_count": 92,
   "metadata": {},
   "outputs": [],
   "source": [
    "from category_encoders.ordinal import OrdinalEncoder\n",
    "from category_encoders.binary import BinaryEncoder\n",
    "\n",
    "from sklearn.metrics import confusion_matrix, matthews_corrcoef, precision_score, recall_score, classification_report\n",
    "from sklearn.preprocessing import OneHotEncoder\n",
    "from sklearn.preprocessing import StandardScaler\n",
    "from sklearn.preprocessing import MaxAbsScaler\n",
    "from sklearn.model_selection import train_test_split\n",
    "from sklearn.model_selection import StratifiedKFold \n",
    "from sklearn.metrics import log_loss\n",
    "from sklearn.feature_extraction.text import TfidfVectorizer\n",
    "from scipy import sparse"
   ]
  },
  {
   "cell_type": "code",
   "execution_count": 73,
   "metadata": {},
   "outputs": [],
   "source": [
    "from sklearn.linear_model import LogisticRegression"
   ]
  },
  {
   "cell_type": "code",
   "execution_count": 74,
   "metadata": {},
   "outputs": [],
   "source": [
    "RANDOM_SEED = 22"
   ]
  },
  {
   "cell_type": "code",
   "execution_count": 75,
   "metadata": {},
   "outputs": [
    {
     "name": "stderr",
     "output_type": "stream",
     "text": [
      "2022/08/10 16:51:58 INFO mlflow.tracking.fluent: Autologging successfully enabled for sklearn.\n"
     ]
    }
   ],
   "source": [
    "# mlflow.autolog()"
   ]
  },
  {
   "cell_type": "code",
   "execution_count": 76,
   "metadata": {},
   "outputs": [],
   "source": [
    "train_path = \"train.csv\"\n",
    "test_path =  \"test.csv\"\n",
    "sample_path = \"sample_submission.csv\""
   ]
  },
  {
   "cell_type": "code",
   "execution_count": 77,
   "metadata": {},
   "outputs": [],
   "source": [
    "data = pd.read_csv(train_path)\n",
    "# test = pd.read_csv(test_path)\n",
    "# sample = pd.read_csv(sample_path)"
   ]
  },
  {
   "cell_type": "code",
   "execution_count": 78,
   "metadata": {},
   "outputs": [],
   "source": [
    "data['essay_text'] = data['essay_id'].apply(lambda x: open(f\"train/{x}.txt\").read())"
   ]
  },
  {
   "cell_type": "code",
   "execution_count": 79,
   "metadata": {},
   "outputs": [],
   "source": [
    "target_labels_mapping = {\"Ineffective\": 0, \"Adequate\":1, \"Effective\":2}\n",
    "data.discourse_effectiveness = data.discourse_effectiveness.map(target_labels_mapping)"
   ]
  },
  {
   "cell_type": "code",
   "execution_count": 80,
   "metadata": {},
   "outputs": [
    {
     "data": {
      "text/plain": [
       "1    20977\n",
       "2     9326\n",
       "0     6462\n",
       "Name: discourse_effectiveness, dtype: int64"
      ]
     },
     "execution_count": 80,
     "metadata": {},
     "output_type": "execute_result"
    }
   ],
   "source": [
    "data.discourse_effectiveness.value_counts()"
   ]
  },
  {
   "cell_type": "code",
   "execution_count": 81,
   "metadata": {},
   "outputs": [],
   "source": [
    "X, Y = data.drop('discourse_effectiveness', axis=1, inplace = False), data.discourse_effectiveness"
   ]
  },
  {
   "cell_type": "code",
   "execution_count": 82,
   "metadata": {},
   "outputs": [],
   "source": [
    "X_train, X_test, Y_train, Y_test = train_test_split(X, Y, test_size = .20, random_state=RANDOM_SEED, stratify=data.discourse_effectiveness)"
   ]
  },
  {
   "cell_type": "code",
   "execution_count": 83,
   "metadata": {},
   "outputs": [
    {
     "name": "stdout",
     "output_type": "stream",
     "text": [
      "(29412, 5) (29412,) (7353, 5) (7353,)\n"
     ]
    }
   ],
   "source": [
    "print(X_train.shape, Y_train.shape, X_test.shape, Y_test.shape)"
   ]
  },
  {
   "cell_type": "code",
   "execution_count": 85,
   "metadata": {},
   "outputs": [
    {
     "data": {
      "text/html": [
       "<div>\n",
       "<style scoped>\n",
       "    .dataframe tbody tr th:only-of-type {\n",
       "        vertical-align: middle;\n",
       "    }\n",
       "\n",
       "    .dataframe tbody tr th {\n",
       "        vertical-align: top;\n",
       "    }\n",
       "\n",
       "    .dataframe thead th {\n",
       "        text-align: right;\n",
       "    }\n",
       "</style>\n",
       "<table border=\"1\" class=\"dataframe\">\n",
       "  <thead>\n",
       "    <tr style=\"text-align: right;\">\n",
       "      <th></th>\n",
       "      <th>discourse_id</th>\n",
       "      <th>essay_id</th>\n",
       "      <th>discourse_text</th>\n",
       "      <th>discourse_type</th>\n",
       "      <th>essay_text</th>\n",
       "    </tr>\n",
       "  </thead>\n",
       "  <tbody>\n",
       "    <tr>\n",
       "      <th>8629</th>\n",
       "      <td>7d7fb0ac2edb</td>\n",
       "      <td>9C480C68AA9B</td>\n",
       "      <td>Instead of laying on the couch, eating, sleepi...</td>\n",
       "      <td>Evidence</td>\n",
       "      <td>If the Summer is plagued with more work we sho...</td>\n",
       "    </tr>\n",
       "    <tr>\n",
       "      <th>10274</th>\n",
       "      <td>96517470c123</td>\n",
       "      <td>B8B5B46DA523</td>\n",
       "      <td>like some simplified electronics made of silic...</td>\n",
       "      <td>Evidence</td>\n",
       "      <td>No one has ever landed on venus so the author ...</td>\n",
       "    </tr>\n",
       "    <tr>\n",
       "      <th>4293</th>\n",
       "      <td>bb394ddc5bb1</td>\n",
       "      <td>4C51280DE2A8</td>\n",
       "      <td>Second, now to the conspiracy theorists, they ...</td>\n",
       "      <td>Counterclaim</td>\n",
       "      <td>First of all, NASA only gets their information...</td>\n",
       "    </tr>\n",
       "    <tr>\n",
       "      <th>2443</th>\n",
       "      <td>d85fb9fc13c9</td>\n",
       "      <td>2D08A68E70CD</td>\n",
       "      <td>Third example has pathos catching peoples feel...</td>\n",
       "      <td>Claim</td>\n",
       "      <td>I think that the author describes how technolg...</td>\n",
       "    </tr>\n",
       "    <tr>\n",
       "      <th>16589</th>\n",
       "      <td>2f5adb92fe7d</td>\n",
       "      <td>1EFA2916E5A8</td>\n",
       "      <td>it would also in the world of to day make him ...</td>\n",
       "      <td>Claim</td>\n",
       "      <td>Dear Principle,\\n\\nI personally do not think s...</td>\n",
       "    </tr>\n",
       "    <tr>\n",
       "      <th>...</th>\n",
       "      <td>...</td>\n",
       "      <td>...</td>\n",
       "      <td>...</td>\n",
       "      <td>...</td>\n",
       "      <td>...</td>\n",
       "    </tr>\n",
       "    <tr>\n",
       "      <th>3015</th>\n",
       "      <td>6fb01a8a829a</td>\n",
       "      <td>37FC9DB2D1DB</td>\n",
       "      <td>it's their summer.</td>\n",
       "      <td>Claim</td>\n",
       "      <td>When assigned a project during summer break, d...</td>\n",
       "    </tr>\n",
       "    <tr>\n",
       "      <th>26587</th>\n",
       "      <td>7551a7b008f5</td>\n",
       "      <td>A4C9096A123B</td>\n",
       "      <td>I think people should be able to choose who t...</td>\n",
       "      <td>Evidence</td>\n",
       "      <td>Dear, State Sentor\\n\\nI think the electoral co...</td>\n",
       "    </tr>\n",
       "    <tr>\n",
       "      <th>19477</th>\n",
       "      <td>0f5d0b88c638</td>\n",
       "      <td>44DEA88FDD83</td>\n",
       "      <td>But you see there is up side to using the Elec...</td>\n",
       "      <td>Counterclaim</td>\n",
       "      <td>Dear Floridas state senator, I am righting thi...</td>\n",
       "    </tr>\n",
       "    <tr>\n",
       "      <th>30083</th>\n",
       "      <td>2d7b19e2991b</td>\n",
       "      <td>D786FC589E93</td>\n",
       "      <td>but we should at least get a vote on like new ...</td>\n",
       "      <td>Rebuttal</td>\n",
       "      <td>Dear senator,\\n\\nGetting ride of the Electoral...</td>\n",
       "    </tr>\n",
       "    <tr>\n",
       "      <th>7207</th>\n",
       "      <td>a08955d08d6c</td>\n",
       "      <td>82514A286403</td>\n",
       "      <td>When they unveiled the image for all to see th...</td>\n",
       "      <td>Evidence</td>\n",
       "      <td>The face is a landform because the planet must...</td>\n",
       "    </tr>\n",
       "  </tbody>\n",
       "</table>\n",
       "<p>29412 rows × 5 columns</p>\n",
       "</div>"
      ],
      "text/plain": [
       "       discourse_id      essay_id  \\\n",
       "8629   7d7fb0ac2edb  9C480C68AA9B   \n",
       "10274  96517470c123  B8B5B46DA523   \n",
       "4293   bb394ddc5bb1  4C51280DE2A8   \n",
       "2443   d85fb9fc13c9  2D08A68E70CD   \n",
       "16589  2f5adb92fe7d  1EFA2916E5A8   \n",
       "...             ...           ...   \n",
       "3015   6fb01a8a829a  37FC9DB2D1DB   \n",
       "26587  7551a7b008f5  A4C9096A123B   \n",
       "19477  0f5d0b88c638  44DEA88FDD83   \n",
       "30083  2d7b19e2991b  D786FC589E93   \n",
       "7207   a08955d08d6c  82514A286403   \n",
       "\n",
       "                                          discourse_text discourse_type  \\\n",
       "8629   Instead of laying on the couch, eating, sleepi...       Evidence   \n",
       "10274  like some simplified electronics made of silic...       Evidence   \n",
       "4293   Second, now to the conspiracy theorists, they ...   Counterclaim   \n",
       "2443   Third example has pathos catching peoples feel...          Claim   \n",
       "16589  it would also in the world of to day make him ...          Claim   \n",
       "...                                                  ...            ...   \n",
       "3015                                 it's their summer.           Claim   \n",
       "26587   I think people should be able to choose who t...       Evidence   \n",
       "19477  But you see there is up side to using the Elec...   Counterclaim   \n",
       "30083  but we should at least get a vote on like new ...       Rebuttal   \n",
       "7207   When they unveiled the image for all to see th...       Evidence   \n",
       "\n",
       "                                              essay_text  \n",
       "8629   If the Summer is plagued with more work we sho...  \n",
       "10274  No one has ever landed on venus so the author ...  \n",
       "4293   First of all, NASA only gets their information...  \n",
       "2443   I think that the author describes how technolg...  \n",
       "16589  Dear Principle,\\n\\nI personally do not think s...  \n",
       "...                                                  ...  \n",
       "3015   When assigned a project during summer break, d...  \n",
       "26587  Dear, State Sentor\\n\\nI think the electoral co...  \n",
       "19477  Dear Floridas state senator, I am righting thi...  \n",
       "30083  Dear senator,\\n\\nGetting ride of the Electoral...  \n",
       "7207   The face is a landform because the planet must...  \n",
       "\n",
       "[29412 rows x 5 columns]"
      ]
     },
     "execution_count": 85,
     "metadata": {},
     "output_type": "execute_result"
    }
   ],
   "source": [
    "X_train"
   ]
  },
  {
   "cell_type": "code",
   "execution_count": 93,
   "metadata": {},
   "outputs": [
    {
     "name": "stdout",
     "output_type": "stream",
     "text": [
      "\n",
      "Fold # 1\n"
     ]
    },
    {
     "name": "stderr",
     "output_type": "stream",
     "text": [
      "2022/08/10 17:11:46 INFO mlflow.utils.autologging_utils: Created MLflow autologging run with ID 'ea6d8e80ed824168ae8bf2b1530bd1d1', which will track hyperparameters, performance metrics, model artifacts, and lineage information for the current sklearn workflow\n",
      "/opt/homebrew/Caskroom/miniforge/base/envs/experimental/lib/python3.9/site-packages/sklearn/linear_model/_logistic.py:814: ConvergenceWarning: lbfgs failed to converge (status=1):\n",
      "STOP: TOTAL NO. of ITERATIONS REACHED LIMIT.\n",
      "\n",
      "Increase the number of iterations (max_iter) or scale the data as shown in:\n",
      "    https://scikit-learn.org/stable/modules/preprocessing.html\n",
      "Please also refer to the documentation for alternative solver options:\n",
      "    https://scikit-learn.org/stable/modules/linear_model.html#logistic-regression\n",
      "  n_iter_i = _check_optimize_result(\n",
      "2022/08/10 17:11:48 WARNING mlflow.utils.autologging_utils: MLflow autologging encountered a warning: \"/opt/homebrew/Caskroom/miniforge/base/envs/experimental/lib/python3.9/site-packages/sklearn/utils/deprecation.py:87: FutureWarning: Function plot_confusion_matrix is deprecated; Function `plot_confusion_matrix` is deprecated in 1.0 and will be removed in 1.2. Use one of the class methods: ConfusionMatrixDisplay.from_predictions or ConfusionMatrixDisplay.from_estimator.\"\n",
      "2022/08/10 17:11:48 WARNING mlflow.sklearn: Failed to infer model signature: Expected one of (pandas.DataFrame, numpy array, dictionary of (name -> numpy.ndarray), pyspark.sql.DataFrame) but got '<class 'scipy.sparse._csr.csr_matrix'>'\n"
     ]
    },
    {
     "name": "stdout",
     "output_type": "stream",
     "text": [
      "\tLog loss: 0.8141559689855703\n",
      "................................................................................\n",
      "\n",
      "Fold # 2\n"
     ]
    },
    {
     "name": "stderr",
     "output_type": "stream",
     "text": [
      "2022/08/10 17:11:50 INFO mlflow.utils.autologging_utils: Created MLflow autologging run with ID '1ebcd6b9293e4c328a826db2f586387d', which will track hyperparameters, performance metrics, model artifacts, and lineage information for the current sklearn workflow\n",
      "/opt/homebrew/Caskroom/miniforge/base/envs/experimental/lib/python3.9/site-packages/sklearn/linear_model/_logistic.py:814: ConvergenceWarning: lbfgs failed to converge (status=1):\n",
      "STOP: TOTAL NO. of ITERATIONS REACHED LIMIT.\n",
      "\n",
      "Increase the number of iterations (max_iter) or scale the data as shown in:\n",
      "    https://scikit-learn.org/stable/modules/preprocessing.html\n",
      "Please also refer to the documentation for alternative solver options:\n",
      "    https://scikit-learn.org/stable/modules/linear_model.html#logistic-regression\n",
      "  n_iter_i = _check_optimize_result(\n",
      "2022/08/10 17:11:52 WARNING mlflow.utils.autologging_utils: MLflow autologging encountered a warning: \"/opt/homebrew/Caskroom/miniforge/base/envs/experimental/lib/python3.9/site-packages/sklearn/utils/deprecation.py:87: FutureWarning: Function plot_confusion_matrix is deprecated; Function `plot_confusion_matrix` is deprecated in 1.0 and will be removed in 1.2. Use one of the class methods: ConfusionMatrixDisplay.from_predictions or ConfusionMatrixDisplay.from_estimator.\"\n",
      "2022/08/10 17:11:52 WARNING mlflow.sklearn: Failed to infer model signature: Expected one of (pandas.DataFrame, numpy array, dictionary of (name -> numpy.ndarray), pyspark.sql.DataFrame) but got '<class 'scipy.sparse._csr.csr_matrix'>'\n"
     ]
    },
    {
     "name": "stdout",
     "output_type": "stream",
     "text": [
      "\tLog loss: 0.8126399232504511\n",
      "................................................................................\n",
      "\n",
      "Fold # 3\n"
     ]
    },
    {
     "name": "stderr",
     "output_type": "stream",
     "text": [
      "2022/08/10 17:11:54 INFO mlflow.utils.autologging_utils: Created MLflow autologging run with ID 'be94835c9ea04d3b87b5b592de022bde', which will track hyperparameters, performance metrics, model artifacts, and lineage information for the current sklearn workflow\n",
      "/opt/homebrew/Caskroom/miniforge/base/envs/experimental/lib/python3.9/site-packages/sklearn/linear_model/_logistic.py:814: ConvergenceWarning: lbfgs failed to converge (status=1):\n",
      "STOP: TOTAL NO. of ITERATIONS REACHED LIMIT.\n",
      "\n",
      "Increase the number of iterations (max_iter) or scale the data as shown in:\n",
      "    https://scikit-learn.org/stable/modules/preprocessing.html\n",
      "Please also refer to the documentation for alternative solver options:\n",
      "    https://scikit-learn.org/stable/modules/linear_model.html#logistic-regression\n",
      "  n_iter_i = _check_optimize_result(\n",
      "2022/08/10 17:11:56 WARNING mlflow.utils.autologging_utils: MLflow autologging encountered a warning: \"/opt/homebrew/Caskroom/miniforge/base/envs/experimental/lib/python3.9/site-packages/sklearn/utils/deprecation.py:87: FutureWarning: Function plot_confusion_matrix is deprecated; Function `plot_confusion_matrix` is deprecated in 1.0 and will be removed in 1.2. Use one of the class methods: ConfusionMatrixDisplay.from_predictions or ConfusionMatrixDisplay.from_estimator.\"\n",
      "2022/08/10 17:11:56 WARNING mlflow.sklearn: Failed to infer model signature: Expected one of (pandas.DataFrame, numpy array, dictionary of (name -> numpy.ndarray), pyspark.sql.DataFrame) but got '<class 'scipy.sparse._csr.csr_matrix'>'\n"
     ]
    },
    {
     "name": "stdout",
     "output_type": "stream",
     "text": [
      "\tLog loss: 0.8303430962728789\n",
      "................................................................................\n",
      "\n",
      "Fold # 4\n"
     ]
    },
    {
     "name": "stderr",
     "output_type": "stream",
     "text": [
      "2022/08/10 17:11:58 INFO mlflow.utils.autologging_utils: Created MLflow autologging run with ID 'a94f2a916a7649adb1b2c395a2ae7bbc', which will track hyperparameters, performance metrics, model artifacts, and lineage information for the current sklearn workflow\n",
      "/opt/homebrew/Caskroom/miniforge/base/envs/experimental/lib/python3.9/site-packages/sklearn/linear_model/_logistic.py:814: ConvergenceWarning: lbfgs failed to converge (status=1):\n",
      "STOP: TOTAL NO. of ITERATIONS REACHED LIMIT.\n",
      "\n",
      "Increase the number of iterations (max_iter) or scale the data as shown in:\n",
      "    https://scikit-learn.org/stable/modules/preprocessing.html\n",
      "Please also refer to the documentation for alternative solver options:\n",
      "    https://scikit-learn.org/stable/modules/linear_model.html#logistic-regression\n",
      "  n_iter_i = _check_optimize_result(\n",
      "2022/08/10 17:11:59 WARNING mlflow.utils.autologging_utils: MLflow autologging encountered a warning: \"/opt/homebrew/Caskroom/miniforge/base/envs/experimental/lib/python3.9/site-packages/sklearn/utils/deprecation.py:87: FutureWarning: Function plot_confusion_matrix is deprecated; Function `plot_confusion_matrix` is deprecated in 1.0 and will be removed in 1.2. Use one of the class methods: ConfusionMatrixDisplay.from_predictions or ConfusionMatrixDisplay.from_estimator.\"\n",
      "2022/08/10 17:12:00 WARNING mlflow.sklearn: Failed to infer model signature: Expected one of (pandas.DataFrame, numpy array, dictionary of (name -> numpy.ndarray), pyspark.sql.DataFrame) but got '<class 'scipy.sparse._csr.csr_matrix'>'\n"
     ]
    },
    {
     "name": "stdout",
     "output_type": "stream",
     "text": [
      "\tLog loss: 0.8208572698773121\n",
      "................................................................................\n",
      "\n",
      "Fold # 5\n"
     ]
    },
    {
     "name": "stderr",
     "output_type": "stream",
     "text": [
      "2022/08/10 17:12:02 INFO mlflow.utils.autologging_utils: Created MLflow autologging run with ID '7650ac1672d44ab68bca3f2755ba7212', which will track hyperparameters, performance metrics, model artifacts, and lineage information for the current sklearn workflow\n",
      "/opt/homebrew/Caskroom/miniforge/base/envs/experimental/lib/python3.9/site-packages/sklearn/linear_model/_logistic.py:814: ConvergenceWarning: lbfgs failed to converge (status=1):\n",
      "STOP: TOTAL NO. of ITERATIONS REACHED LIMIT.\n",
      "\n",
      "Increase the number of iterations (max_iter) or scale the data as shown in:\n",
      "    https://scikit-learn.org/stable/modules/preprocessing.html\n",
      "Please also refer to the documentation for alternative solver options:\n",
      "    https://scikit-learn.org/stable/modules/linear_model.html#logistic-regression\n",
      "  n_iter_i = _check_optimize_result(\n",
      "2022/08/10 17:12:03 WARNING mlflow.utils.autologging_utils: MLflow autologging encountered a warning: \"/opt/homebrew/Caskroom/miniforge/base/envs/experimental/lib/python3.9/site-packages/sklearn/utils/deprecation.py:87: FutureWarning: Function plot_confusion_matrix is deprecated; Function `plot_confusion_matrix` is deprecated in 1.0 and will be removed in 1.2. Use one of the class methods: ConfusionMatrixDisplay.from_predictions or ConfusionMatrixDisplay.from_estimator.\"\n",
      "2022/08/10 17:12:03 WARNING mlflow.sklearn: Failed to infer model signature: Expected one of (pandas.DataFrame, numpy array, dictionary of (name -> numpy.ndarray), pyspark.sql.DataFrame) but got '<class 'scipy.sparse._csr.csr_matrix'>'\n"
     ]
    },
    {
     "name": "stdout",
     "output_type": "stream",
     "text": [
      "\tLog loss: 0.8006261104803448\n",
      "................................................................................\n",
      "--------------------------------------------------------------------------------\n",
      "Min loss \t0.8006261104803448\n",
      "Max loss \t0.8303430962728789\n",
      "Mean loss\t0.8157244737733116\n"
     ]
    }
   ],
   "source": [
    "stratified_k = StratifiedKFold(n_splits = 5, shuffle=True, random_state = RANDOM_SEED)\n",
    "losses = []\n",
    "for idx, (train_idxs, valid_idxs) in enumerate(stratified_k.split(X_train, Y_train)):\n",
    "    print(f\"\\nFold # {idx + 1}\")\n",
    "\n",
    "    x_train, y_train = X_train.iloc[train_idxs], Y_train.iloc[train_idxs]\n",
    "    x_valid, y_valid = X_train.iloc[valid_idxs], Y_train.iloc[valid_idxs]\n",
    "\n",
    "    y_train = y_train.to_numpy()\n",
    "    y_valid = y_valid.to_numpy()\n",
    "\n",
    "    vectorizer = TfidfVectorizer()\n",
    "    vectorizer.fit(X_train.essay_text.drop_duplicates())\n",
    "\n",
    "    vectorized_discourse_text_train = vectorizer.transform(x_train.discourse_text)\n",
    "    vectorized_discourse_text_test = vectorizer.transform(x_valid.discourse_text)\n",
    "\n",
    "    ohe = OneHotEncoder()\n",
    "    ohe_discourse_type_train = ohe.fit_transform(x_train.discourse_type.values.reshape(-1, 1))\n",
    "    ohe_discourse_type_test = ohe.transform(x_valid.discourse_type.values.reshape(-1, 1))\n",
    "\n",
    "    x_train = sparse.hstack([vectorized_discourse_text_train, ohe_discourse_type_train])\n",
    "    x_valid = sparse.hstack([vectorized_discourse_text_test, ohe_discourse_type_test])\n",
    "\n",
    "    # In case it is necessary\n",
    "    scaler = MaxAbsScaler()\n",
    "    x_train = scaler.fit_transform(x_train)\n",
    "    x_valid = scaler.transform(x_valid)\n",
    "\n",
    "    model = LogisticRegression()\n",
    "    model.fit(x_train, y_train)\n",
    "\n",
    "    prob_predictions = model.predict_proba(x_valid)\n",
    "    lloss = log_loss(y_valid, prob_predictions)\n",
    "    losses.append(lloss)\n",
    "\n",
    "    print(f\"\\tLog loss: {lloss}\")\n",
    "    print(80*'.')\n",
    "\n",
    "print(80*'-')\n",
    "\n",
    "print(f\"Min loss \\t{min(losses)}\")\n",
    "print(f\"Max loss \\t{max(losses)}\")\n",
    "print(f\"Mean loss\\t{np.mean(losses)}\")"
   ]
  },
  {
   "cell_type": "code",
   "execution_count": 91,
   "metadata": {},
   "outputs": [
    {
     "data": {
      "text/plain": [
       "<23530x28446 sparse matrix of type '<class 'numpy.float64'>'\n",
       "\twith 762806 stored elements in Compressed Sparse Row format>"
      ]
     },
     "execution_count": 91,
     "metadata": {},
     "output_type": "execute_result"
    }
   ],
   "source": [
    "x_train"
   ]
  },
  {
   "cell_type": "code",
   "execution_count": null,
   "metadata": {},
   "outputs": [
    {
     "name": "stderr",
     "output_type": "stream",
     "text": [
      "2022/08/10 16:02:39 INFO mlflow.utils.autologging_utils: Created MLflow autologging run with ID '4971bcd4368543e287041d30dd9d3c12', which will track hyperparameters, performance metrics, model artifacts, and lineage information for the current sklearn workflow\n",
      "/opt/homebrew/Caskroom/miniforge/base/envs/experimental/lib/python3.9/site-packages/sklearn/linear_model/_logistic.py:814: ConvergenceWarning: lbfgs failed to converge (status=1):\n",
      "STOP: TOTAL NO. of ITERATIONS REACHED LIMIT.\n",
      "\n",
      "Increase the number of iterations (max_iter) or scale the data as shown in:\n",
      "    https://scikit-learn.org/stable/modules/preprocessing.html\n",
      "Please also refer to the documentation for alternative solver options:\n",
      "    https://scikit-learn.org/stable/modules/linear_model.html#logistic-regression\n",
      "  n_iter_i = _check_optimize_result(\n",
      "2022/08/10 16:02:41 WARNING mlflow.utils.autologging_utils: MLflow autologging encountered a warning: \"/opt/homebrew/Caskroom/miniforge/base/envs/experimental/lib/python3.9/site-packages/sklearn/utils/deprecation.py:87: FutureWarning: Function plot_confusion_matrix is deprecated; Function `plot_confusion_matrix` is deprecated in 1.0 and will be removed in 1.2. Use one of the class methods: ConfusionMatrixDisplay.from_predictions or ConfusionMatrixDisplay.from_estimator.\"\n",
      "2022/08/10 16:02:41 WARNING mlflow.sklearn: Failed to infer model signature: Expected one of (pandas.DataFrame, numpy array, dictionary of (name -> numpy.ndarray), pyspark.sql.DataFrame) but got '<class 'scipy.sparse._csr.csr_matrix'>'\n"
     ]
    },
    {
     "data": {
      "text/plain": [
       "LogisticRegression()"
      ]
     },
     "execution_count": 30,
     "metadata": {},
     "output_type": "execute_result"
    }
   ],
   "source": []
  },
  {
   "cell_type": "code",
   "execution_count": null,
   "metadata": {},
   "outputs": [],
   "source": [
    "Y_pred = model.predict_proba(X_test)"
   ]
  },
  {
   "cell_type": "code",
   "execution_count": null,
   "metadata": {},
   "outputs": [
    {
     "data": {
      "text/plain": [
       "(7353, 3)"
      ]
     },
     "execution_count": 57,
     "metadata": {},
     "output_type": "execute_result"
    }
   ],
   "source": [
    "Y_pred.shape"
   ]
  },
  {
   "cell_type": "code",
   "execution_count": null,
   "metadata": {},
   "outputs": [
    {
     "data": {
      "text/plain": [
       "0.7759086348638186"
      ]
     },
     "execution_count": 58,
     "metadata": {},
     "output_type": "execute_result"
    }
   ],
   "source": [
    "loss = log_loss(y_true = Y_test, y_pred = Y_pred)\n",
    "loss "
   ]
  }
 ],
 "metadata": {
  "kernelspec": {
   "display_name": "Python 3.9.7 ('experimental')",
   "language": "python",
   "name": "python3"
  },
  "language_info": {
   "codemirror_mode": {
    "name": "ipython",
    "version": 3
   },
   "file_extension": ".py",
   "mimetype": "text/x-python",
   "name": "python",
   "nbconvert_exporter": "python",
   "pygments_lexer": "ipython3",
   "version": "3.9.7"
  },
  "orig_nbformat": 4,
  "vscode": {
   "interpreter": {
    "hash": "758258b5e8b45ec9f5b1e8a0f832f1f98ad6752149e10d5e95f53d93cab8a1dc"
   }
  }
 },
 "nbformat": 4,
 "nbformat_minor": 2
}
