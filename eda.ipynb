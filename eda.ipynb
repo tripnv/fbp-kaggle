{
 "cells": [
  {
   "cell_type": "markdown",
   "metadata": {},
   "source": [
    "#### Aim\n",
    "_classify texts written by students into three categories: efective, adequate, ineffective_ <br>\n",
    "_eval method: multi class log loss_"
   ]
  },
  {
   "cell_type": "code",
   "execution_count": 1,
   "metadata": {},
   "outputs": [],
   "source": [
    "import pandas as pd"
   ]
  },
  {
   "cell_type": "code",
   "execution_count": 2,
   "metadata": {},
   "outputs": [],
   "source": [
    "import seaborn as sns\n",
    "import matplotlib.pyplot as plt\n",
    "from bokeh.io import output_notebook\n",
    "from bokeh.io import show\n",
    "from bokeh.plotting import figure\n",
    "sns.set_palette('Spectral_r')"
   ]
  },
  {
   "cell_type": "markdown",
   "metadata": {},
   "source": [
    "#### Initial steps \n",
    "Remarks:\n",
    "- _'discourse effectiveness' is the target variable_ \n",
    "    - somewhat unbalanced\n",
    "        - adequate: .57\n",
    "        - effective: .25\n",
    "        - ineffective: .17\n",
    "<br>\n",
    "<br>\n",
    "- _'discourse_id' unique for each entry_\n",
    "\n",
    "- _'essay_id' denotes the context; text can be loaded in the for more inherent information_\n",
    "    - _seems to be normally distributed, each essay appearing ~ 10x_\n",
    "<br>\n",
    "<br>\n",
    "- _'discourse_type' is a catgorical feature with 7 unique categories: \n",
    "    - _'Rebuttal', 'Counterclaim', 'Lead', 'Concluding Statement', 'Position',\n",
    "       'Claim', 'Evidence'_\n",
    "    - Frequency: \n",
    "        'Rebuttal': 0.03383653, \n",
    "        'Counterclaim': 0.04822521, \n",
    "        'Lead': 0.0623147 , \n",
    "        'Concluding Statement': 0.09114647, \n",
    "        'Position': 0.10945192,\n",
    "        __'Claim' : 0.32577179__, \n",
    "        __'Evidence': 0.32925337__\n",
    "\n",
    "<br>\n",
    "<br>\n",
    "- TODO: _'discourse_text'_\n",
    "<br>\n",
    "- TODO: _'essay_text'_\n",
    "\n",
    "\n",
    "<br>\n",
    "<br>\n",
    "\n",
    "- Questions to think about: \n",
    "    - What makes an argument effective? And, conversely one ineffective?\n",
    "    - Does the degree of formalness matter? What kind of language is used?\n",
    "    - Is it relatedness to the topic at hand?\n",
    "    \n",
    "    - Why does _discourse type_ matter?\n",
    "         "
   ]
  },
  {
   "cell_type": "markdown",
   "metadata": {},
   "source": [
    "####  Data reading, info, describe\n"
   ]
  },
  {
   "cell_type": "code",
   "execution_count": 3,
   "metadata": {},
   "outputs": [],
   "source": [
    "train_path = \"train.csv\"\n",
    "test_path =  \"test.csv\""
   ]
  },
  {
   "cell_type": "code",
   "execution_count": 4,
   "metadata": {},
   "outputs": [],
   "source": [
    "train = pd.read_csv(train_path)\n",
    "test = pd.read_csv(test_path)"
   ]
  },
  {
   "cell_type": "code",
   "execution_count": 5,
   "metadata": {},
   "outputs": [
    {
     "name": "stdout",
     "output_type": "stream",
     "text": [
      "<class 'pandas.core.frame.DataFrame'>\n",
      "RangeIndex: 36765 entries, 0 to 36764\n",
      "Data columns (total 5 columns):\n",
      " #   Column                   Non-Null Count  Dtype \n",
      "---  ------                   --------------  ----- \n",
      " 0   discourse_id             36765 non-null  object\n",
      " 1   essay_id                 36765 non-null  object\n",
      " 2   discourse_text           36765 non-null  object\n",
      " 3   discourse_type           36765 non-null  object\n",
      " 4   discourse_effectiveness  36765 non-null  object\n",
      "dtypes: object(5)\n",
      "memory usage: 1.4+ MB\n"
     ]
    }
   ],
   "source": [
    "train.info()"
   ]
  },
  {
   "cell_type": "code",
   "execution_count": 6,
   "metadata": {},
   "outputs": [
    {
     "data": {
      "text/html": [
       "<div>\n",
       "<style scoped>\n",
       "    .dataframe tbody tr th:only-of-type {\n",
       "        vertical-align: middle;\n",
       "    }\n",
       "\n",
       "    .dataframe tbody tr th {\n",
       "        vertical-align: top;\n",
       "    }\n",
       "\n",
       "    .dataframe thead th {\n",
       "        text-align: right;\n",
       "    }\n",
       "</style>\n",
       "<table border=\"1\" class=\"dataframe\">\n",
       "  <thead>\n",
       "    <tr style=\"text-align: right;\">\n",
       "      <th></th>\n",
       "      <th>count</th>\n",
       "      <th>unique</th>\n",
       "      <th>top</th>\n",
       "      <th>freq</th>\n",
       "    </tr>\n",
       "  </thead>\n",
       "  <tbody>\n",
       "    <tr>\n",
       "      <th>discourse_id</th>\n",
       "      <td>36765</td>\n",
       "      <td>36765</td>\n",
       "      <td>0013cc385424</td>\n",
       "      <td>1</td>\n",
       "    </tr>\n",
       "    <tr>\n",
       "      <th>essay_id</th>\n",
       "      <td>36765</td>\n",
       "      <td>4191</td>\n",
       "      <td>91B1F82B2CF1</td>\n",
       "      <td>23</td>\n",
       "    </tr>\n",
       "    <tr>\n",
       "      <th>discourse_text</th>\n",
       "      <td>36765</td>\n",
       "      <td>36691</td>\n",
       "      <td>Summer projects should be student-designed</td>\n",
       "      <td>14</td>\n",
       "    </tr>\n",
       "    <tr>\n",
       "      <th>discourse_type</th>\n",
       "      <td>36765</td>\n",
       "      <td>7</td>\n",
       "      <td>Evidence</td>\n",
       "      <td>12105</td>\n",
       "    </tr>\n",
       "    <tr>\n",
       "      <th>discourse_effectiveness</th>\n",
       "      <td>36765</td>\n",
       "      <td>3</td>\n",
       "      <td>Adequate</td>\n",
       "      <td>20977</td>\n",
       "    </tr>\n",
       "  </tbody>\n",
       "</table>\n",
       "</div>"
      ],
      "text/plain": [
       "                         count unique  \\\n",
       "discourse_id             36765  36765   \n",
       "essay_id                 36765   4191   \n",
       "discourse_text           36765  36691   \n",
       "discourse_type           36765      7   \n",
       "discourse_effectiveness  36765      3   \n",
       "\n",
       "                                                                 top   freq  \n",
       "discourse_id                                            0013cc385424      1  \n",
       "essay_id                                                91B1F82B2CF1     23  \n",
       "discourse_text           Summer projects should be student-designed      14  \n",
       "discourse_type                                              Evidence  12105  \n",
       "discourse_effectiveness                                     Adequate  20977  "
      ]
     },
     "execution_count": 6,
     "metadata": {},
     "output_type": "execute_result"
    }
   ],
   "source": [
    "train.describe().T"
   ]
  },
  {
   "cell_type": "code",
   "execution_count": 7,
   "metadata": {},
   "outputs": [
    {
     "data": {
      "text/html": [
       "<div>\n",
       "<style scoped>\n",
       "    .dataframe tbody tr th:only-of-type {\n",
       "        vertical-align: middle;\n",
       "    }\n",
       "\n",
       "    .dataframe tbody tr th {\n",
       "        vertical-align: top;\n",
       "    }\n",
       "\n",
       "    .dataframe thead th {\n",
       "        text-align: right;\n",
       "    }\n",
       "</style>\n",
       "<table border=\"1\" class=\"dataframe\">\n",
       "  <thead>\n",
       "    <tr style=\"text-align: right;\">\n",
       "      <th></th>\n",
       "      <th>count</th>\n",
       "      <th>unique</th>\n",
       "      <th>top</th>\n",
       "      <th>freq</th>\n",
       "    </tr>\n",
       "  </thead>\n",
       "  <tbody>\n",
       "    <tr>\n",
       "      <th>discourse_id</th>\n",
       "      <td>10</td>\n",
       "      <td>10</td>\n",
       "      <td>a261b6e14276</td>\n",
       "      <td>1</td>\n",
       "    </tr>\n",
       "    <tr>\n",
       "      <th>essay_id</th>\n",
       "      <td>10</td>\n",
       "      <td>1</td>\n",
       "      <td>D72CB1C11673</td>\n",
       "      <td>10</td>\n",
       "    </tr>\n",
       "    <tr>\n",
       "      <th>discourse_text</th>\n",
       "      <td>10</td>\n",
       "      <td>10</td>\n",
       "      <td>Making choices in life can be very difficult. ...</td>\n",
       "      <td>1</td>\n",
       "    </tr>\n",
       "    <tr>\n",
       "      <th>discourse_type</th>\n",
       "      <td>10</td>\n",
       "      <td>5</td>\n",
       "      <td>Claim</td>\n",
       "      <td>4</td>\n",
       "    </tr>\n",
       "  </tbody>\n",
       "</table>\n",
       "</div>"
      ],
      "text/plain": [
       "               count unique  \\\n",
       "discourse_id      10     10   \n",
       "essay_id          10      1   \n",
       "discourse_text    10     10   \n",
       "discourse_type    10      5   \n",
       "\n",
       "                                                              top freq  \n",
       "discourse_id                                         a261b6e14276    1  \n",
       "essay_id                                             D72CB1C11673   10  \n",
       "discourse_text  Making choices in life can be very difficult. ...    1  \n",
       "discourse_type                                              Claim    4  "
      ]
     },
     "execution_count": 7,
     "metadata": {},
     "output_type": "execute_result"
    }
   ],
   "source": [
    "test.describe().T"
   ]
  },
  {
   "cell_type": "code",
   "execution_count": 8,
   "metadata": {},
   "outputs": [
    {
     "data": {
      "text/html": [
       "<div>\n",
       "<style scoped>\n",
       "    .dataframe tbody tr th:only-of-type {\n",
       "        vertical-align: middle;\n",
       "    }\n",
       "\n",
       "    .dataframe tbody tr th {\n",
       "        vertical-align: top;\n",
       "    }\n",
       "\n",
       "    .dataframe thead th {\n",
       "        text-align: right;\n",
       "    }\n",
       "</style>\n",
       "<table border=\"1\" class=\"dataframe\">\n",
       "  <thead>\n",
       "    <tr style=\"text-align: right;\">\n",
       "      <th></th>\n",
       "      <th>discourse_id</th>\n",
       "      <th>essay_id</th>\n",
       "      <th>discourse_text</th>\n",
       "      <th>discourse_type</th>\n",
       "      <th>discourse_effectiveness</th>\n",
       "    </tr>\n",
       "  </thead>\n",
       "  <tbody>\n",
       "    <tr>\n",
       "      <th>0</th>\n",
       "      <td>0013cc385424</td>\n",
       "      <td>007ACE74B050</td>\n",
       "      <td>Hi, i'm Isaac, i'm going to be writing about h...</td>\n",
       "      <td>Lead</td>\n",
       "      <td>Adequate</td>\n",
       "    </tr>\n",
       "    <tr>\n",
       "      <th>1</th>\n",
       "      <td>9704a709b505</td>\n",
       "      <td>007ACE74B050</td>\n",
       "      <td>On my perspective, I think that the face is a ...</td>\n",
       "      <td>Position</td>\n",
       "      <td>Adequate</td>\n",
       "    </tr>\n",
       "    <tr>\n",
       "      <th>2</th>\n",
       "      <td>c22adee811b6</td>\n",
       "      <td>007ACE74B050</td>\n",
       "      <td>I think that the face is a natural landform be...</td>\n",
       "      <td>Claim</td>\n",
       "      <td>Adequate</td>\n",
       "    </tr>\n",
       "    <tr>\n",
       "      <th>3</th>\n",
       "      <td>a10d361e54e4</td>\n",
       "      <td>007ACE74B050</td>\n",
       "      <td>If life was on Mars, we would know by now. The...</td>\n",
       "      <td>Evidence</td>\n",
       "      <td>Adequate</td>\n",
       "    </tr>\n",
       "    <tr>\n",
       "      <th>4</th>\n",
       "      <td>db3e453ec4e2</td>\n",
       "      <td>007ACE74B050</td>\n",
       "      <td>People thought that the face was formed by ali...</td>\n",
       "      <td>Counterclaim</td>\n",
       "      <td>Adequate</td>\n",
       "    </tr>\n",
       "    <tr>\n",
       "      <th>5</th>\n",
       "      <td>36a565e45db7</td>\n",
       "      <td>007ACE74B050</td>\n",
       "      <td>though some say that life on Mars does exist, ...</td>\n",
       "      <td>Rebuttal</td>\n",
       "      <td>Ineffective</td>\n",
       "    </tr>\n",
       "    <tr>\n",
       "      <th>6</th>\n",
       "      <td>fb65fe816ba3</td>\n",
       "      <td>007ACE74B050</td>\n",
       "      <td>It says in paragraph 7, on April 5, 1998, Mars...</td>\n",
       "      <td>Evidence</td>\n",
       "      <td>Adequate</td>\n",
       "    </tr>\n",
       "    <tr>\n",
       "      <th>7</th>\n",
       "      <td>4e472e2584fa</td>\n",
       "      <td>007ACE74B050</td>\n",
       "      <td>Everyone who thought it was made by alieans ev...</td>\n",
       "      <td>Counterclaim</td>\n",
       "      <td>Adequate</td>\n",
       "    </tr>\n",
       "    <tr>\n",
       "      <th>8</th>\n",
       "      <td>28a94d3ee425</td>\n",
       "      <td>007ACE74B050</td>\n",
       "      <td>Though people were not satified about how the ...</td>\n",
       "      <td>Concluding Statement</td>\n",
       "      <td>Adequate</td>\n",
       "    </tr>\n",
       "    <tr>\n",
       "      <th>9</th>\n",
       "      <td>d226f06362f5</td>\n",
       "      <td>00944C693682</td>\n",
       "      <td>Limiting the usage of cars has personal and pr...</td>\n",
       "      <td>Lead</td>\n",
       "      <td>Effective</td>\n",
       "    </tr>\n",
       "    <tr>\n",
       "      <th>10</th>\n",
       "      <td>de347c859ab6</td>\n",
       "      <td>00944C693682</td>\n",
       "      <td>With so many things in this world that few peo...</td>\n",
       "      <td>Position</td>\n",
       "      <td>Effective</td>\n",
       "    </tr>\n",
       "    <tr>\n",
       "      <th>11</th>\n",
       "      <td>cc921c5cfda4</td>\n",
       "      <td>00944C693682</td>\n",
       "      <td>stress.</td>\n",
       "      <td>Claim</td>\n",
       "      <td>Adequate</td>\n",
       "    </tr>\n",
       "    <tr>\n",
       "      <th>12</th>\n",
       "      <td>a6fcdd9110ab</td>\n",
       "      <td>00944C693682</td>\n",
       "      <td>It is no secret that morning traffic jams and ...</td>\n",
       "      <td>Evidence</td>\n",
       "      <td>Effective</td>\n",
       "    </tr>\n",
       "    <tr>\n",
       "      <th>13</th>\n",
       "      <td>6efd9102298b</td>\n",
       "      <td>00944C693682</td>\n",
       "      <td>the environment suffers greatly from the many ...</td>\n",
       "      <td>Claim</td>\n",
       "      <td>Effective</td>\n",
       "    </tr>\n",
       "    <tr>\n",
       "      <th>14</th>\n",
       "      <td>d6807f31da92</td>\n",
       "      <td>00944C693682</td>\n",
       "      <td>\"Passenger cars are responsible for 12 percent...</td>\n",
       "      <td>Evidence</td>\n",
       "      <td>Effective</td>\n",
       "    </tr>\n",
       "    <tr>\n",
       "      <th>15</th>\n",
       "      <td>024f3edf0cdb</td>\n",
       "      <td>00944C693682</td>\n",
       "      <td>, adding the last two reasons together makes f...</td>\n",
       "      <td>Claim</td>\n",
       "      <td>Effective</td>\n",
       "    </tr>\n",
       "    <tr>\n",
       "      <th>16</th>\n",
       "      <td>cf5dc6eb65e0</td>\n",
       "      <td>00944C693682</td>\n",
       "      <td>If it must be described as \"emissions ... are ...</td>\n",
       "      <td>Evidence</td>\n",
       "      <td>Adequate</td>\n",
       "    </tr>\n",
       "    <tr>\n",
       "      <th>17</th>\n",
       "      <td>8df2da9994bf</td>\n",
       "      <td>00944C693682</td>\n",
       "      <td>It is also worth noting that cities that have ...</td>\n",
       "      <td>Claim</td>\n",
       "      <td>Effective</td>\n",
       "    </tr>\n",
       "    <tr>\n",
       "      <th>18</th>\n",
       "      <td>033845420f01</td>\n",
       "      <td>00944C693682</td>\n",
       "      <td>In Vauban, \"stores are placed a walk away, on ...</td>\n",
       "      <td>Evidence</td>\n",
       "      <td>Effective</td>\n",
       "    </tr>\n",
       "    <tr>\n",
       "      <th>19</th>\n",
       "      <td>9fd314f638e5</td>\n",
       "      <td>00944C693682</td>\n",
       "      <td>Individual car use isn't bad. Millions of indi...</td>\n",
       "      <td>Concluding Statement</td>\n",
       "      <td>Effective</td>\n",
       "    </tr>\n",
       "    <tr>\n",
       "      <th>20</th>\n",
       "      <td>ed7e62a18bad</td>\n",
       "      <td>00BD97EA4041</td>\n",
       "      <td>Should computers read the emotional expression...</td>\n",
       "      <td>Lead</td>\n",
       "      <td>Adequate</td>\n",
       "    </tr>\n",
       "    <tr>\n",
       "      <th>21</th>\n",
       "      <td>c20937683442</td>\n",
       "      <td>00BD97EA4041</td>\n",
       "      <td>No because, why should a computer know how you...</td>\n",
       "      <td>Position</td>\n",
       "      <td>Adequate</td>\n",
       "    </tr>\n",
       "    <tr>\n",
       "      <th>22</th>\n",
       "      <td>4faec979a617</td>\n",
       "      <td>00BD97EA4041</td>\n",
       "      <td>It wouldn't change the emotion the students fe...</td>\n",
       "      <td>Claim</td>\n",
       "      <td>Adequate</td>\n",
       "    </tr>\n",
       "    <tr>\n",
       "      <th>23</th>\n",
       "      <td>a44371d6abc5</td>\n",
       "      <td>00BD97EA4041</td>\n",
       "      <td>The process begins when the computer puts toge...</td>\n",
       "      <td>Evidence</td>\n",
       "      <td>Ineffective</td>\n",
       "    </tr>\n",
       "    <tr>\n",
       "      <th>24</th>\n",
       "      <td>e9257d57eae0</td>\n",
       "      <td>00BD97EA4041</td>\n",
       "      <td>When facial facial expressions a made its abou...</td>\n",
       "      <td>Evidence</td>\n",
       "      <td>Adequate</td>\n",
       "    </tr>\n",
       "  </tbody>\n",
       "</table>\n",
       "</div>"
      ],
      "text/plain": [
       "    discourse_id      essay_id  \\\n",
       "0   0013cc385424  007ACE74B050   \n",
       "1   9704a709b505  007ACE74B050   \n",
       "2   c22adee811b6  007ACE74B050   \n",
       "3   a10d361e54e4  007ACE74B050   \n",
       "4   db3e453ec4e2  007ACE74B050   \n",
       "5   36a565e45db7  007ACE74B050   \n",
       "6   fb65fe816ba3  007ACE74B050   \n",
       "7   4e472e2584fa  007ACE74B050   \n",
       "8   28a94d3ee425  007ACE74B050   \n",
       "9   d226f06362f5  00944C693682   \n",
       "10  de347c859ab6  00944C693682   \n",
       "11  cc921c5cfda4  00944C693682   \n",
       "12  a6fcdd9110ab  00944C693682   \n",
       "13  6efd9102298b  00944C693682   \n",
       "14  d6807f31da92  00944C693682   \n",
       "15  024f3edf0cdb  00944C693682   \n",
       "16  cf5dc6eb65e0  00944C693682   \n",
       "17  8df2da9994bf  00944C693682   \n",
       "18  033845420f01  00944C693682   \n",
       "19  9fd314f638e5  00944C693682   \n",
       "20  ed7e62a18bad  00BD97EA4041   \n",
       "21  c20937683442  00BD97EA4041   \n",
       "22  4faec979a617  00BD97EA4041   \n",
       "23  a44371d6abc5  00BD97EA4041   \n",
       "24  e9257d57eae0  00BD97EA4041   \n",
       "\n",
       "                                       discourse_text        discourse_type  \\\n",
       "0   Hi, i'm Isaac, i'm going to be writing about h...                  Lead   \n",
       "1   On my perspective, I think that the face is a ...              Position   \n",
       "2   I think that the face is a natural landform be...                 Claim   \n",
       "3   If life was on Mars, we would know by now. The...              Evidence   \n",
       "4   People thought that the face was formed by ali...          Counterclaim   \n",
       "5   though some say that life on Mars does exist, ...              Rebuttal   \n",
       "6   It says in paragraph 7, on April 5, 1998, Mars...              Evidence   \n",
       "7   Everyone who thought it was made by alieans ev...          Counterclaim   \n",
       "8   Though people were not satified about how the ...  Concluding Statement   \n",
       "9   Limiting the usage of cars has personal and pr...                  Lead   \n",
       "10  With so many things in this world that few peo...              Position   \n",
       "11                                           stress.                  Claim   \n",
       "12  It is no secret that morning traffic jams and ...              Evidence   \n",
       "13  the environment suffers greatly from the many ...                 Claim   \n",
       "14  \"Passenger cars are responsible for 12 percent...              Evidence   \n",
       "15  , adding the last two reasons together makes f...                 Claim   \n",
       "16  If it must be described as \"emissions ... are ...              Evidence   \n",
       "17  It is also worth noting that cities that have ...                 Claim   \n",
       "18  In Vauban, \"stores are placed a walk away, on ...              Evidence   \n",
       "19  Individual car use isn't bad. Millions of indi...  Concluding Statement   \n",
       "20  Should computers read the emotional expression...                  Lead   \n",
       "21  No because, why should a computer know how you...              Position   \n",
       "22  It wouldn't change the emotion the students fe...                 Claim   \n",
       "23  The process begins when the computer puts toge...              Evidence   \n",
       "24  When facial facial expressions a made its abou...              Evidence   \n",
       "\n",
       "   discourse_effectiveness  \n",
       "0                 Adequate  \n",
       "1                 Adequate  \n",
       "2                 Adequate  \n",
       "3                 Adequate  \n",
       "4                 Adequate  \n",
       "5              Ineffective  \n",
       "6                 Adequate  \n",
       "7                 Adequate  \n",
       "8                 Adequate  \n",
       "9                Effective  \n",
       "10               Effective  \n",
       "11                Adequate  \n",
       "12               Effective  \n",
       "13               Effective  \n",
       "14               Effective  \n",
       "15               Effective  \n",
       "16                Adequate  \n",
       "17               Effective  \n",
       "18               Effective  \n",
       "19               Effective  \n",
       "20                Adequate  \n",
       "21                Adequate  \n",
       "22                Adequate  \n",
       "23             Ineffective  \n",
       "24                Adequate  "
      ]
     },
     "execution_count": 8,
     "metadata": {},
     "output_type": "execute_result"
    }
   ],
   "source": [
    "train.head(25)"
   ]
  },
  {
   "cell_type": "code",
   "execution_count": 9,
   "metadata": {},
   "outputs": [
    {
     "data": {
      "text/plain": [
       "0        Hi, i'm Isaac, i'm going to be writing about h...\n",
       "1        On my perspective, I think that the face is a ...\n",
       "2        I think that the face is a natural landform be...\n",
       "3        If life was on Mars, we would know by now. The...\n",
       "4        People thought that the face was formed by ali...\n",
       "                               ...                        \n",
       "36760    For many people they don't like only asking on...\n",
       "36761    also people have different views and opinions ...\n",
       "36762    Advice is something that can impact a persons ...\n",
       "36763    someone can use everything that many people sa...\n",
       "36764    In conclusion asking for an opinion can be ben...\n",
       "Name: discourse_text, Length: 36765, dtype: object"
      ]
     },
     "execution_count": 9,
     "metadata": {},
     "output_type": "execute_result"
    }
   ],
   "source": [
    "train.discourse_text"
   ]
  },
  {
   "cell_type": "markdown",
   "metadata": {},
   "source": [
    "#### Essay_id"
   ]
  },
  {
   "cell_type": "code",
   "execution_count": 10,
   "metadata": {},
   "outputs": [
    {
     "data": {
      "text/plain": [
       "91B1F82B2CF1    23\n",
       "4CA37D113612    23\n",
       "900A879708F0    23\n",
       "A7EC6F462F8B    22\n",
       "DECAE402BB38    22\n",
       "                ..\n",
       "AB02689C1A9B     1\n",
       "FFFF80B8CC2F     1\n",
       "377548575048     1\n",
       "5E85F1FB4E22     1\n",
       "9706F8E7D534     1\n",
       "Name: essay_id, Length: 4191, dtype: int64"
      ]
     },
     "execution_count": 10,
     "metadata": {},
     "output_type": "execute_result"
    }
   ],
   "source": [
    "subset = train.essay_id.value_counts()\n",
    "subset"
   ]
  },
  {
   "cell_type": "code",
   "execution_count": 11,
   "metadata": {},
   "outputs": [
    {
     "data": {
      "image/png": "[encoded data removed]",
      "text/plain": [
       "<Figure size 1800x360 with 1 Axes>"
      ]
     },
     "metadata": {
      "needs_background": "light"
     },
     "output_type": "display_data"
    }
   ],
   "source": [
    "plt.figure(figsize = (25,5))\n",
    "plt.hist(subset.values, rwidth = 1, bins = 22, align='mid', edgecolor = 'white')\n",
    "plt.title('Essay id counts')\n",
    "plt.show()"
   ]
  },
  {
   "cell_type": "markdown",
   "metadata": {},
   "source": [
    "The majority of essays appear ~10 times.\n"
   ]
  },
  {
   "cell_type": "markdown",
   "metadata": {},
   "source": [
    "#### Discourse effectiveness"
   ]
  },
  {
   "cell_type": "code",
   "execution_count": 12,
   "metadata": {},
   "outputs": [],
   "source": [
    "subset = train.discourse_effectiveness.value_counts(ascending=True)\n",
    "subset = subset / len(train)"
   ]
  },
  {
   "cell_type": "code",
   "execution_count": 13,
   "metadata": {},
   "outputs": [
    {
     "data": {
      "image/png": "[encoded data removed]",
      "text/plain": [
       "<Figure size 1800x360 with 1 Axes>"
      ]
     },
     "metadata": {
      "needs_background": "light"
     },
     "output_type": "display_data"
    }
   ],
   "source": [
    "plt.figure(figsize = (25,5))\n",
    "plt.barh(y = subset.index, width=subset.values)\n",
    "plt.title('Discourse effectiveness expressed as % of the total')\n",
    "plt.suptitle('Target variable')\n",
    "plt.xlabel('%')\n",
    "plt.show()"
   ]
  },
  {
   "cell_type": "code",
   "execution_count": 14,
   "metadata": {},
   "outputs": [
    {
     "data": {
      "text/plain": [
       "array([0.17576499, 0.25366517, 0.57056984])"
      ]
     },
     "execution_count": 14,
     "metadata": {},
     "output_type": "execute_result"
    }
   ],
   "source": [
    "subset.values"
   ]
  },
  {
   "cell_type": "markdown",
   "metadata": {},
   "source": [
    "So it it somewhat unbalanced."
   ]
  },
  {
   "cell_type": "code",
   "execution_count": 15,
   "metadata": {},
   "outputs": [
    {
     "data": {
      "text/plain": [
       "74"
      ]
     },
     "execution_count": 15,
     "metadata": {},
     "output_type": "execute_result"
    }
   ],
   "source": [
    "len(train) - train.discourse_text.nunique() "
   ]
  },
  {
   "cell_type": "markdown",
   "metadata": {},
   "source": [
    "There are 74 instances where one or more _discourse_texts_ is repeated."
   ]
  },
  {
   "cell_type": "markdown",
   "metadata": {},
   "source": [
    "#### Discourse_text "
   ]
  },
  {
   "cell_type": "code",
   "execution_count": 16,
   "metadata": {},
   "outputs": [],
   "source": [
    "subset = train.discourse_type.value_counts(ascending=True)\n",
    "subset = subset / len(train)"
   ]
  },
  {
   "cell_type": "code",
   "execution_count": 17,
   "metadata": {},
   "outputs": [
    {
     "data": {
      "image/png": "[encoded data removed]",
      "text/plain": [
       "<Figure size 1800x720 with 1 Axes>"
      ]
     },
     "metadata": {
      "needs_background": "light"
     },
     "output_type": "display_data"
    }
   ],
   "source": [
    "plt.figure(figsize = (25,10))\n",
    "plt.barh(y = subset.index, width=subset.values)\n",
    "plt.title('Discourse type value counts expressed as % of the total')\n",
    "plt.xlabel('%')\n",
    "plt.show()"
   ]
  },
  {
   "cell_type": "code",
   "execution_count": 18,
   "metadata": {},
   "outputs": [
    {
     "data": {
      "text/plain": [
       "array([0.03383653, 0.04822521, 0.0623147 , 0.09114647, 0.10945192,\n",
       "       0.32577179, 0.32925337])"
      ]
     },
     "execution_count": 18,
     "metadata": {},
     "output_type": "execute_result"
    }
   ],
   "source": [
    "subset.values"
   ]
  },
  {
   "cell_type": "code",
   "execution_count": 19,
   "metadata": {},
   "outputs": [],
   "source": [
    "subset = train.loc[train.discourse_effectiveness == 'Adequate'].discourse_type\n",
    "subset = sorted(subset)"
   ]
  },
  {
   "cell_type": "code",
   "execution_count": 20,
   "metadata": {},
   "outputs": [
    {
     "data": {
      "text/plain": [
       "<AxesSubplot:ylabel='Count'>"
      ]
     },
     "execution_count": 20,
     "metadata": {},
     "output_type": "execute_result"
    },
    {
     "data": {
      "image/png": "[encoded data removed]",
      "text/plain": [
       "<Figure size 1800x720 with 1 Axes>"
      ]
     },
     "metadata": {
      "needs_background": "light"
     },
     "output_type": "display_data"
    }
   ],
   "source": [
    "plt.figure(figsize = (25,10))\n",
    "sns.histplot(subset, edgecolor = 'white')"
   ]
  },
  {
   "cell_type": "code",
   "execution_count": 21,
   "metadata": {},
   "outputs": [
    {
     "data": {
      "text/plain": [
       "0        317\n",
       "1        210\n",
       "2        105\n",
       "3        362\n",
       "4        101\n",
       "        ... \n",
       "36760    126\n",
       "36761     57\n",
       "36762    121\n",
       "36763    439\n",
       "36764     67\n",
       "Name: discourse_text, Length: 36765, dtype: int64"
      ]
     },
     "execution_count": 21,
     "metadata": {},
     "output_type": "execute_result"
    }
   ],
   "source": [
    "subset = train.discourse_text.str.len()\n",
    "subset"
   ]
  },
  {
   "cell_type": "markdown",
   "metadata": {},
   "source": [
    "#### Discourse text 2"
   ]
  },
  {
   "cell_type": "code",
   "execution_count": 22,
   "metadata": {},
   "outputs": [
    {
     "data": {
      "image/png": "[encoded data removed]",
      "text/plain": [
       "<Figure size 1800x360 with 1 Axes>"
      ]
     },
     "metadata": {
      "needs_background": "light"
     },
     "output_type": "display_data"
    }
   ],
   "source": [
    "plt.figure(figsize = (25,5))\n",
    "plt.hist(subset, bins = 50, edgecolor = 'white')\n",
    "plt.title('Discourse text length distribution')\n",
    "plt.xlabel('Text length')\n",
    "plt.ylabel('Count')\n",
    "plt.show()"
   ]
  },
  {
   "cell_type": "code",
   "execution_count": 23,
   "metadata": {},
   "outputs": [
    {
     "data": {
      "text/plain": [
       "0        68\n",
       "1        42\n",
       "2        22\n",
       "3        73\n",
       "4        19\n",
       "         ..\n",
       "36760    22\n",
       "36761    10\n",
       "36762    24\n",
       "36763    82\n",
       "36764    12\n",
       "Name: discourse_text, Length: 36765, dtype: int64"
      ]
     },
     "execution_count": 23,
     "metadata": {},
     "output_type": "execute_result"
    }
   ],
   "source": [
    "subset = train.discourse_text.str.split(' ').map(len)\n",
    "subset"
   ]
  },
  {
   "cell_type": "code",
   "execution_count": 24,
   "metadata": {},
   "outputs": [
    {
     "data": {
      "image/png": "[encoded data removed]",
      "text/plain": [
       "<Figure size 1800x360 with 1 Axes>"
      ]
     },
     "metadata": {
      "needs_background": "light"
     },
     "output_type": "display_data"
    }
   ],
   "source": [
    "plt.figure(figsize = (25,5))\n",
    "plt.hist(subset, bins = 50, edgecolor = 'white')\n",
    "plt.title('Discourse text word count distribution')\n",
    "plt.xlabel('Text length')\n",
    "plt.ylabel('Count')\n",
    "plt.show()"
   ]
  },
  {
   "cell_type": "markdown",
   "metadata": {},
   "source": [
    "####  Why and how does _discourse type_ matter?"
   ]
  },
  {
   "cell_type": "code",
   "execution_count": 25,
   "metadata": {},
   "outputs": [
    {
     "data": {
      "text/html": [
       "<div>\n",
       "<style scoped>\n",
       "    .dataframe tbody tr th:only-of-type {\n",
       "        vertical-align: middle;\n",
       "    }\n",
       "\n",
       "    .dataframe tbody tr th {\n",
       "        vertical-align: top;\n",
       "    }\n",
       "\n",
       "    .dataframe thead th {\n",
       "        text-align: right;\n",
       "    }\n",
       "</style>\n",
       "<table border=\"1\" class=\"dataframe\">\n",
       "  <thead>\n",
       "    <tr style=\"text-align: right;\">\n",
       "      <th></th>\n",
       "      <th>discourse_id</th>\n",
       "      <th>essay_id</th>\n",
       "      <th>discourse_text</th>\n",
       "      <th>discourse_type</th>\n",
       "      <th>discourse_effectiveness</th>\n",
       "    </tr>\n",
       "  </thead>\n",
       "  <tbody>\n",
       "    <tr>\n",
       "      <th>0</th>\n",
       "      <td>0013cc385424</td>\n",
       "      <td>007ACE74B050</td>\n",
       "      <td>Hi, i'm Isaac, i'm going to be writing about h...</td>\n",
       "      <td>Lead</td>\n",
       "      <td>Adequate</td>\n",
       "    </tr>\n",
       "    <tr>\n",
       "      <th>9</th>\n",
       "      <td>d226f06362f5</td>\n",
       "      <td>00944C693682</td>\n",
       "      <td>Limiting the usage of cars has personal and pr...</td>\n",
       "      <td>Lead</td>\n",
       "      <td>Effective</td>\n",
       "    </tr>\n",
       "    <tr>\n",
       "      <th>20</th>\n",
       "      <td>ed7e62a18bad</td>\n",
       "      <td>00BD97EA4041</td>\n",
       "      <td>Should computers read the emotional expression...</td>\n",
       "      <td>Lead</td>\n",
       "      <td>Adequate</td>\n",
       "    </tr>\n",
       "    <tr>\n",
       "      <th>33</th>\n",
       "      <td>ed3a833a2f49</td>\n",
       "      <td>013B9AA6B9DB</td>\n",
       "      <td>What is that thing on Mars?</td>\n",
       "      <td>Lead</td>\n",
       "      <td>Adequate</td>\n",
       "    </tr>\n",
       "    <tr>\n",
       "      <th>44</th>\n",
       "      <td>55f4bc9b664b</td>\n",
       "      <td>0158970BC5D2</td>\n",
       "      <td>Students around the world are forgetting more ...</td>\n",
       "      <td>Lead</td>\n",
       "      <td>Adequate</td>\n",
       "    </tr>\n",
       "    <tr>\n",
       "      <th>...</th>\n",
       "      <td>...</td>\n",
       "      <td>...</td>\n",
       "      <td>...</td>\n",
       "      <td>...</td>\n",
       "      <td>...</td>\n",
       "    </tr>\n",
       "    <tr>\n",
       "      <th>36699</th>\n",
       "      <td>c42e3ed1626b</td>\n",
       "      <td>FD8A9514C8BC</td>\n",
       "      <td>Not too long ago I got into a disagreement wit...</td>\n",
       "      <td>Lead</td>\n",
       "      <td>Adequate</td>\n",
       "    </tr>\n",
       "    <tr>\n",
       "      <th>36708</th>\n",
       "      <td>d934843f1543</td>\n",
       "      <td>FDF0AEEB14C3</td>\n",
       "      <td>Going to school everyday can be difficult for ...</td>\n",
       "      <td>Lead</td>\n",
       "      <td>Effective</td>\n",
       "    </tr>\n",
       "    <tr>\n",
       "      <th>36723</th>\n",
       "      <td>bf5f089e19df</td>\n",
       "      <td>FE3CA06DDCA1</td>\n",
       "      <td>Why is it when someone asks you for advice the...</td>\n",
       "      <td>Lead</td>\n",
       "      <td>Ineffective</td>\n",
       "    </tr>\n",
       "    <tr>\n",
       "      <th>36730</th>\n",
       "      <td>cea348b818a9</td>\n",
       "      <td>FEF42864AE28</td>\n",
       "      <td>During a long day at school, have you ever tho...</td>\n",
       "      <td>Lead</td>\n",
       "      <td>Effective</td>\n",
       "    </tr>\n",
       "    <tr>\n",
       "      <th>36744</th>\n",
       "      <td>abd14cf1ab13</td>\n",
       "      <td>FF9E0379CD98</td>\n",
       "      <td>Some school offer distence learning as a optio...</td>\n",
       "      <td>Lead</td>\n",
       "      <td>Adequate</td>\n",
       "    </tr>\n",
       "  </tbody>\n",
       "</table>\n",
       "<p>2291 rows × 5 columns</p>\n",
       "</div>"
      ],
      "text/plain": [
       "       discourse_id      essay_id  \\\n",
       "0      0013cc385424  007ACE74B050   \n",
       "9      d226f06362f5  00944C693682   \n",
       "20     ed7e62a18bad  00BD97EA4041   \n",
       "33     ed3a833a2f49  013B9AA6B9DB   \n",
       "44     55f4bc9b664b  0158970BC5D2   \n",
       "...             ...           ...   \n",
       "36699  c42e3ed1626b  FD8A9514C8BC   \n",
       "36708  d934843f1543  FDF0AEEB14C3   \n",
       "36723  bf5f089e19df  FE3CA06DDCA1   \n",
       "36730  cea348b818a9  FEF42864AE28   \n",
       "36744  abd14cf1ab13  FF9E0379CD98   \n",
       "\n",
       "                                          discourse_text discourse_type  \\\n",
       "0      Hi, i'm Isaac, i'm going to be writing about h...           Lead   \n",
       "9      Limiting the usage of cars has personal and pr...           Lead   \n",
       "20     Should computers read the emotional expression...           Lead   \n",
       "33                          What is that thing on Mars?            Lead   \n",
       "44     Students around the world are forgetting more ...           Lead   \n",
       "...                                                  ...            ...   \n",
       "36699  Not too long ago I got into a disagreement wit...           Lead   \n",
       "36708  Going to school everyday can be difficult for ...           Lead   \n",
       "36723  Why is it when someone asks you for advice the...           Lead   \n",
       "36730  During a long day at school, have you ever tho...           Lead   \n",
       "36744  Some school offer distence learning as a optio...           Lead   \n",
       "\n",
       "      discourse_effectiveness  \n",
       "0                    Adequate  \n",
       "9                   Effective  \n",
       "20                   Adequate  \n",
       "33                   Adequate  \n",
       "44                   Adequate  \n",
       "...                       ...  \n",
       "36699                Adequate  \n",
       "36708               Effective  \n",
       "36723             Ineffective  \n",
       "36730               Effective  \n",
       "36744                Adequate  \n",
       "\n",
       "[2291 rows x 5 columns]"
      ]
     },
     "execution_count": 25,
     "metadata": {},
     "output_type": "execute_result"
    }
   ],
   "source": [
    "train[train.loc[:, 'discourse_type'] == 'Lead']"
   ]
  },
  {
   "cell_type": "code",
   "execution_count": 26,
   "metadata": {},
   "outputs": [
    {
     "data": {
      "image/png": "[encoded data removed]",
      "text/plain": [
       "<Figure size 1800x720 with 3 Axes>"
      ]
     },
     "metadata": {
      "needs_background": "light"
     },
     "output_type": "display_data"
    }
   ],
   "source": [
    "fig,axs = plt.subplots(nrows = train.discourse_effectiveness.nunique(), ncols = 1,figsize= (25,10), sharex = True)\n",
    "\n",
    "colors = ['lightgray', 'blue', 'orange']\n",
    "\n",
    "for idx, eff in enumerate(['Adequate', 'Effective', 'Ineffective']):\n",
    "    sns.histplot(train[train.loc[:, 'discourse_effectiveness'] == eff].discourse_type, ax = axs[idx], stat = 'percent', label=eff, edgecolor = 'white', color = colors[idx]).set_title(eff)\n",
    "    \n",
    "\n",
    "plt.tight_layout()\n",
    "plt.show()\n",
    "\n"
   ]
  },
  {
   "cell_type": "code",
   "execution_count": 41,
   "metadata": {},
   "outputs": [
    {
     "name": "stdout",
     "output_type": "stream",
     "text": [
      "['Lead' 'Position' 'Claim' 'Evidence' 'Counterclaim' 'Rebuttal'\n",
      " 'Concluding Statement']\n"
     ]
    },
    {
     "data": {
      "image/png": "[encoded data removed]",
      "text/plain": [
       "<Figure size 1800x720 with 7 Axes>"
      ]
     },
     "metadata": {
      "needs_background": "light"
     },
     "output_type": "display_data"
    }
   ],
   "source": [
    "print(train.discourse_type.unique())\n",
    "fig, axs = plt.subplots(nrows = 7, ncols = 1, figsize= (25,10), sharex = True)\n",
    "\n",
    "\n",
    "\n",
    "for idx, eff in enumerate(train.discourse_type.unique()):\n",
    "    sns.histplot(train[train.loc[:, 'discourse_type'] == eff].discourse_effectiveness, ax = axs[idx], stat = 'percent', label=eff, edgecolor = 'white').set_title(eff)\n",
    "    \n",
    "\n",
    "plt.tight_layout()\n",
    "plt.show()"
   ]
  },
  {
   "cell_type": "code",
   "execution_count": 123,
   "metadata": {},
   "outputs": [
    {
     "name": "stdout",
     "output_type": "stream",
     "text": [
      "['Lead' 'Position' 'Claim' 'Evidence' 'Counterclaim' 'Rebuttal'\n",
      " 'Concluding Statement']\n"
     ]
    },
    {
     "data": {
      "image/png": "[encoded data removed]",
      "text/plain": [
       "<Figure size 1800x720 with 1 Axes>"
      ]
     },
     "metadata": {
      "needs_background": "light"
     },
     "output_type": "display_data"
    }
   ],
   "source": [
    "print(train.discourse_type.unique())\n",
    "fig = plt.figure(figsize= (25,10))\n",
    "\n",
    "custom_palette = sns.color_palette(\"prism\", 7)\n",
    "\n",
    "train.groupby('discourse_effectiveness')['discourse_type'].hist(legend = True, grid = False, align = 'mid', rwidth = .99, bins = 7, histtype = 'bar')\n",
    "    \n",
    "plt.legend()\n",
    "plt.tight_layout()\n",
    "plt.show()"
   ]
  },
  {
   "cell_type": "code",
   "execution_count": 75,
   "metadata": {},
   "outputs": [],
   "source": [
    "from nltk import word_tokenize\n"
   ]
  },
  {
   "cell_type": "code",
   "execution_count": 109,
   "metadata": {},
   "outputs": [
    {
     "data": {
      "text/plain": [
       "False    35521\n",
       "True      1244\n",
       "Name: discourse_type, dtype: int64"
      ]
     },
     "execution_count": 109,
     "metadata": {},
     "output_type": "execute_result"
    }
   ],
   "source": []
  },
  {
   "cell_type": "code",
   "execution_count": null,
   "metadata": {},
   "outputs": [],
   "source": []
  }
 ],
 "metadata": {
  "interpreter": {
   "hash": "b7d9b83467eda07c7dcec41582b0623e164b4685431fddd627aa809781990b03"
  },
  "kernelspec": {
   "display_name": "Python 3.9.9 ('exp')",
   "language": "python",
   "name": "python3"
  },
  "language_info": {
   "codemirror_mode": {
    "name": "ipython",
    "version": 3
   },
   "file_extension": ".py",
   "mimetype": "text/x-python",
   "name": "python",
   "nbconvert_exporter": "python",
   "pygments_lexer": "ipython3",
   "version": "3.9.9"
  },
  "orig_nbformat": 4,
  "vscode": {
   "interpreter": {
    "hash": "758258b5e8b45ec9f5b1e8a0f832f1f98ad6752149e10d5e95f53d93cab8a1dc"
   }
  }
 },
 "nbformat": 4,
 "nbformat_minor": 2
}
