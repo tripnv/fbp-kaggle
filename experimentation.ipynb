{
 "cells": [
  {
   "cell_type": "code",
   "execution_count": 1,
   "metadata": {},
   "outputs": [],
   "source": [
    "import pandas as pd\n",
    "import numpy as np\n",
    "import gc"
   ]
  },
  {
   "cell_type": "code",
   "execution_count": 2,
   "metadata": {},
   "outputs": [],
   "source": [
    "import mlflow\n",
    "from mlflow.tracking import MlflowClient\n",
    "import time "
   ]
  },
  {
   "cell_type": "code",
   "execution_count": 3,
   "metadata": {},
   "outputs": [],
   "source": [
    "from category_encoders.ordinal import OrdinalEncoder\n",
    "from category_encoders.binary import BinaryEncoder\n",
    "\n",
    "from sklearn.metrics import confusion_matrix, matthews_corrcoef, precision_score, recall_score, classification_report\n",
    "from sklearn.preprocessing import OneHotEncoder\n",
    "from sklearn.model_selection import train_test_split\n",
    "from sklearn.model_selection import StratifiedKFold \n",
    "from sklearn.metrics import log_loss\n",
    "from sklearn.feature_extraction.text import TfidfVectorizer\n",
    "from scipy import sparse"
   ]
  },
  {
   "cell_type": "code",
   "execution_count": 4,
   "metadata": {},
   "outputs": [],
   "source": [
    "RANDOM_SEED = 22"
   ]
  },
  {
   "cell_type": "code",
   "execution_count": 5,
   "metadata": {},
   "outputs": [
    {
     "name": "stderr",
     "output_type": "stream",
     "text": [
      "2022/07/26 02:33:05 INFO mlflow.tracking.fluent: Autologging successfully enabled for statsmodels.\n",
      "2022/07/26 02:33:05 WARNING mlflow.utils.autologging_utils: You are using an unsupported version of sklearn. If you encounter errors during autologging, try upgrading / downgrading sklearn to a supported version, or try upgrading MLflow.\n",
      "2022/07/26 02:33:06 INFO mlflow.tracking.fluent: Autologging successfully enabled for sklearn.\n"
     ]
    }
   ],
   "source": [
    "mlflow.autolog()"
   ]
  },
  {
   "cell_type": "code",
   "execution_count": 6,
   "metadata": {},
   "outputs": [
    {
     "data": {
      "text/plain": [
       "'file:///home/hdd_n/Desktop/hnnaharendt/feedback-kaggle/mlruns'"
      ]
     },
     "execution_count": 6,
     "metadata": {},
     "output_type": "execute_result"
    }
   ],
   "source": [
    "mlflow.get_tracking_uri()"
   ]
  },
  {
   "cell_type": "code",
   "execution_count": 5,
   "metadata": {},
   "outputs": [],
   "source": [
    "train_path = \"train.csv\"\n",
    "test_path =  \"test.csv\"\n",
    "sample_path = \"sample_submission.csv\""
   ]
  },
  {
   "cell_type": "code",
   "execution_count": 6,
   "metadata": {},
   "outputs": [],
   "source": [
    "data = pd.read_csv(train_path)\n",
    "test = pd.read_csv(test_path)\n",
    "sample = pd.read_csv(sample_path)"
   ]
  },
  {
   "cell_type": "code",
   "execution_count": 7,
   "metadata": {},
   "outputs": [
    {
     "data": {
      "text/plain": [
       "Index(['discourse_id', 'essay_id', 'discourse_text', 'discourse_type',\n",
       "       'discourse_effectiveness'],\n",
       "      dtype='object')"
      ]
     },
     "execution_count": 7,
     "metadata": {},
     "output_type": "execute_result"
    }
   ],
   "source": [
    "data.columns"
   ]
  },
  {
   "cell_type": "code",
   "execution_count": 8,
   "metadata": {},
   "outputs": [],
   "source": [
    "data['essay_text'] = data['essay_id'].apply(lambda x: open(f\"train/{x}.txt\").read())"
   ]
  },
  {
   "cell_type": "code",
   "execution_count": 9,
   "metadata": {},
   "outputs": [],
   "source": [
    "target_labels_mapping = {\"Ineffective\": 0, \"Adequate\":1, \"Effective\":2}\n",
    "data.discourse_effectiveness = data.discourse_effectiveness.map(target_labels_mapping)"
   ]
  },
  {
   "cell_type": "code",
   "execution_count": 10,
   "metadata": {},
   "outputs": [
    {
     "data": {
      "text/plain": [
       "1    20977\n",
       "2     9326\n",
       "0     6462\n",
       "Name: discourse_effectiveness, dtype: int64"
      ]
     },
     "execution_count": 10,
     "metadata": {},
     "output_type": "execute_result"
    }
   ],
   "source": [
    "data.discourse_effectiveness.value_counts()"
   ]
  },
  {
   "cell_type": "code",
   "execution_count": 11,
   "metadata": {},
   "outputs": [],
   "source": [
    "data.drop(['discourse_id', 'essay_id'], axis = 1, inplace = True)"
   ]
  },
  {
   "cell_type": "code",
   "execution_count": 12,
   "metadata": {},
   "outputs": [
    {
     "data": {
      "text/html": [
       "<div>\n",
       "<style scoped>\n",
       "    .dataframe tbody tr th:only-of-type {\n",
       "        vertical-align: middle;\n",
       "    }\n",
       "\n",
       "    .dataframe tbody tr th {\n",
       "        vertical-align: top;\n",
       "    }\n",
       "\n",
       "    .dataframe thead th {\n",
       "        text-align: right;\n",
       "    }\n",
       "</style>\n",
       "<table border=\"1\" class=\"dataframe\">\n",
       "  <thead>\n",
       "    <tr style=\"text-align: right;\">\n",
       "      <th></th>\n",
       "      <th>discourse_text</th>\n",
       "      <th>discourse_type</th>\n",
       "      <th>discourse_effectiveness</th>\n",
       "      <th>essay_text</th>\n",
       "    </tr>\n",
       "  </thead>\n",
       "  <tbody>\n",
       "    <tr>\n",
       "      <th>0</th>\n",
       "      <td>Hi, i'm Isaac, i'm going to be writing about h...</td>\n",
       "      <td>Lead</td>\n",
       "      <td>1</td>\n",
       "      <td>Hi, i'm Isaac, i'm going to be writing about h...</td>\n",
       "    </tr>\n",
       "    <tr>\n",
       "      <th>1</th>\n",
       "      <td>On my perspective, I think that the face is a ...</td>\n",
       "      <td>Position</td>\n",
       "      <td>1</td>\n",
       "      <td>Hi, i'm Isaac, i'm going to be writing about h...</td>\n",
       "    </tr>\n",
       "    <tr>\n",
       "      <th>2</th>\n",
       "      <td>I think that the face is a natural landform be...</td>\n",
       "      <td>Claim</td>\n",
       "      <td>1</td>\n",
       "      <td>Hi, i'm Isaac, i'm going to be writing about h...</td>\n",
       "    </tr>\n",
       "    <tr>\n",
       "      <th>3</th>\n",
       "      <td>If life was on Mars, we would know by now. The...</td>\n",
       "      <td>Evidence</td>\n",
       "      <td>1</td>\n",
       "      <td>Hi, i'm Isaac, i'm going to be writing about h...</td>\n",
       "    </tr>\n",
       "    <tr>\n",
       "      <th>4</th>\n",
       "      <td>People thought that the face was formed by ali...</td>\n",
       "      <td>Counterclaim</td>\n",
       "      <td>1</td>\n",
       "      <td>Hi, i'm Isaac, i'm going to be writing about h...</td>\n",
       "    </tr>\n",
       "    <tr>\n",
       "      <th>...</th>\n",
       "      <td>...</td>\n",
       "      <td>...</td>\n",
       "      <td>...</td>\n",
       "      <td>...</td>\n",
       "    </tr>\n",
       "    <tr>\n",
       "      <th>36760</th>\n",
       "      <td>For many people they don't like only asking on...</td>\n",
       "      <td>Claim</td>\n",
       "      <td>1</td>\n",
       "      <td>Some people may ask multiple people for advice...</td>\n",
       "    </tr>\n",
       "    <tr>\n",
       "      <th>36761</th>\n",
       "      <td>also people have different views and opinions ...</td>\n",
       "      <td>Claim</td>\n",
       "      <td>1</td>\n",
       "      <td>Some people may ask multiple people for advice...</td>\n",
       "    </tr>\n",
       "    <tr>\n",
       "      <th>36762</th>\n",
       "      <td>Advice is something that can impact a persons ...</td>\n",
       "      <td>Position</td>\n",
       "      <td>1</td>\n",
       "      <td>Some people may ask multiple people for advice...</td>\n",
       "    </tr>\n",
       "    <tr>\n",
       "      <th>36763</th>\n",
       "      <td>someone can use everything that many people sa...</td>\n",
       "      <td>Evidence</td>\n",
       "      <td>0</td>\n",
       "      <td>Some people may ask multiple people for advice...</td>\n",
       "    </tr>\n",
       "    <tr>\n",
       "      <th>36764</th>\n",
       "      <td>In conclusion asking for an opinion can be ben...</td>\n",
       "      <td>Concluding Statement</td>\n",
       "      <td>0</td>\n",
       "      <td>Some people may ask multiple people for advice...</td>\n",
       "    </tr>\n",
       "  </tbody>\n",
       "</table>\n",
       "<p>36765 rows × 4 columns</p>\n",
       "</div>"
      ],
      "text/plain": [
       "                                          discourse_text  \\\n",
       "0      Hi, i'm Isaac, i'm going to be writing about h...   \n",
       "1      On my perspective, I think that the face is a ...   \n",
       "2      I think that the face is a natural landform be...   \n",
       "3      If life was on Mars, we would know by now. The...   \n",
       "4      People thought that the face was formed by ali...   \n",
       "...                                                  ...   \n",
       "36760  For many people they don't like only asking on...   \n",
       "36761  also people have different views and opinions ...   \n",
       "36762  Advice is something that can impact a persons ...   \n",
       "36763  someone can use everything that many people sa...   \n",
       "36764  In conclusion asking for an opinion can be ben...   \n",
       "\n",
       "             discourse_type  discourse_effectiveness  \\\n",
       "0                      Lead                        1   \n",
       "1                  Position                        1   \n",
       "2                     Claim                        1   \n",
       "3                  Evidence                        1   \n",
       "4              Counterclaim                        1   \n",
       "...                     ...                      ...   \n",
       "36760                 Claim                        1   \n",
       "36761                 Claim                        1   \n",
       "36762              Position                        1   \n",
       "36763              Evidence                        0   \n",
       "36764  Concluding Statement                        0   \n",
       "\n",
       "                                              essay_text  \n",
       "0      Hi, i'm Isaac, i'm going to be writing about h...  \n",
       "1      Hi, i'm Isaac, i'm going to be writing about h...  \n",
       "2      Hi, i'm Isaac, i'm going to be writing about h...  \n",
       "3      Hi, i'm Isaac, i'm going to be writing about h...  \n",
       "4      Hi, i'm Isaac, i'm going to be writing about h...  \n",
       "...                                                  ...  \n",
       "36760  Some people may ask multiple people for advice...  \n",
       "36761  Some people may ask multiple people for advice...  \n",
       "36762  Some people may ask multiple people for advice...  \n",
       "36763  Some people may ask multiple people for advice...  \n",
       "36764  Some people may ask multiple people for advice...  \n",
       "\n",
       "[36765 rows x 4 columns]"
      ]
     },
     "execution_count": 12,
     "metadata": {},
     "output_type": "execute_result"
    }
   ],
   "source": [
    "data"
   ]
  },
  {
   "cell_type": "code",
   "execution_count": 13,
   "metadata": {},
   "outputs": [],
   "source": [
    "train_data, test_data = train_test_split(data, test_size = .20, random_state=RANDOM_SEED, stratify=data.discourse_effectiveness)"
   ]
  },
  {
   "cell_type": "code",
   "execution_count": 14,
   "metadata": {},
   "outputs": [
    {
     "name": "stdout",
     "output_type": "stream",
     "text": [
      "Train set shape: (29412, 4)\n",
      "Test set shape: (7353, 4)\n"
     ]
    }
   ],
   "source": [
    "print(f\"Train set shape: {train_data.shape}\")\n",
    "print(f\"Test set shape: {test_data.shape}\")"
   ]
  },
  {
   "cell_type": "code",
   "execution_count": 53,
   "metadata": {},
   "outputs": [],
   "source": [
    "num_folds = 3"
   ]
  },
  {
   "cell_type": "code",
   "execution_count": 54,
   "metadata": {},
   "outputs": [],
   "source": [
    "skf = StratifiedKFold(n_splits=num_folds, random_state=RANDOM_SEED, shuffle=True)"
   ]
  },
  {
   "cell_type": "code",
   "execution_count": 55,
   "metadata": {},
   "outputs": [
    {
     "data": {
      "text/html": [
       "<div>\n",
       "<style scoped>\n",
       "    .dataframe tbody tr th:only-of-type {\n",
       "        vertical-align: middle;\n",
       "    }\n",
       "\n",
       "    .dataframe tbody tr th {\n",
       "        vertical-align: top;\n",
       "    }\n",
       "\n",
       "    .dataframe thead th {\n",
       "        text-align: right;\n",
       "    }\n",
       "</style>\n",
       "<table border=\"1\" class=\"dataframe\">\n",
       "  <thead>\n",
       "    <tr style=\"text-align: right;\">\n",
       "      <th></th>\n",
       "      <th>discourse_text</th>\n",
       "      <th>discourse_type</th>\n",
       "      <th>discourse_effectiveness</th>\n",
       "      <th>essay_text</th>\n",
       "    </tr>\n",
       "  </thead>\n",
       "  <tbody>\n",
       "    <tr>\n",
       "      <th>8629</th>\n",
       "      <td>Instead of laying on the couch, eating, sleepi...</td>\n",
       "      <td>Evidence</td>\n",
       "      <td>1</td>\n",
       "      <td>If the Summer is plagued with more work we sho...</td>\n",
       "    </tr>\n",
       "    <tr>\n",
       "      <th>10274</th>\n",
       "      <td>like some simplified electronics made of silic...</td>\n",
       "      <td>Evidence</td>\n",
       "      <td>1</td>\n",
       "      <td>No one has ever landed on venus so the author ...</td>\n",
       "    </tr>\n",
       "    <tr>\n",
       "      <th>4293</th>\n",
       "      <td>Second, now to the conspiracy theorists, they ...</td>\n",
       "      <td>Counterclaim</td>\n",
       "      <td>1</td>\n",
       "      <td>First of all, NASA only gets their information...</td>\n",
       "    </tr>\n",
       "    <tr>\n",
       "      <th>2443</th>\n",
       "      <td>Third example has pathos catching peoples feel...</td>\n",
       "      <td>Claim</td>\n",
       "      <td>0</td>\n",
       "      <td>I think that the author describes how technolg...</td>\n",
       "    </tr>\n",
       "    <tr>\n",
       "      <th>16589</th>\n",
       "      <td>it would also in the world of to day make him ...</td>\n",
       "      <td>Claim</td>\n",
       "      <td>0</td>\n",
       "      <td>Dear Principle,\\n\\nI personally do not think s...</td>\n",
       "    </tr>\n",
       "    <tr>\n",
       "      <th>...</th>\n",
       "      <td>...</td>\n",
       "      <td>...</td>\n",
       "      <td>...</td>\n",
       "      <td>...</td>\n",
       "    </tr>\n",
       "    <tr>\n",
       "      <th>3015</th>\n",
       "      <td>it's their summer.</td>\n",
       "      <td>Claim</td>\n",
       "      <td>1</td>\n",
       "      <td>When assigned a project during summer break, d...</td>\n",
       "    </tr>\n",
       "    <tr>\n",
       "      <th>26587</th>\n",
       "      <td>I think people should be able to choose who t...</td>\n",
       "      <td>Evidence</td>\n",
       "      <td>0</td>\n",
       "      <td>Dear, State Sentor\\n\\nI think the electoral co...</td>\n",
       "    </tr>\n",
       "    <tr>\n",
       "      <th>19477</th>\n",
       "      <td>But you see there is up side to using the Elec...</td>\n",
       "      <td>Counterclaim</td>\n",
       "      <td>1</td>\n",
       "      <td>Dear Floridas state senator, I am righting thi...</td>\n",
       "    </tr>\n",
       "    <tr>\n",
       "      <th>30083</th>\n",
       "      <td>but we should at least get a vote on like new ...</td>\n",
       "      <td>Rebuttal</td>\n",
       "      <td>0</td>\n",
       "      <td>Dear senator,\\n\\nGetting ride of the Electoral...</td>\n",
       "    </tr>\n",
       "    <tr>\n",
       "      <th>7207</th>\n",
       "      <td>When they unveiled the image for all to see th...</td>\n",
       "      <td>Evidence</td>\n",
       "      <td>0</td>\n",
       "      <td>The face is a landform because the planet must...</td>\n",
       "    </tr>\n",
       "  </tbody>\n",
       "</table>\n",
       "<p>29412 rows × 4 columns</p>\n",
       "</div>"
      ],
      "text/plain": [
       "                                          discourse_text discourse_type  \\\n",
       "8629   Instead of laying on the couch, eating, sleepi...       Evidence   \n",
       "10274  like some simplified electronics made of silic...       Evidence   \n",
       "4293   Second, now to the conspiracy theorists, they ...   Counterclaim   \n",
       "2443   Third example has pathos catching peoples feel...          Claim   \n",
       "16589  it would also in the world of to day make him ...          Claim   \n",
       "...                                                  ...            ...   \n",
       "3015                                 it's their summer.           Claim   \n",
       "26587   I think people should be able to choose who t...       Evidence   \n",
       "19477  But you see there is up side to using the Elec...   Counterclaim   \n",
       "30083  but we should at least get a vote on like new ...       Rebuttal   \n",
       "7207   When they unveiled the image for all to see th...       Evidence   \n",
       "\n",
       "       discourse_effectiveness  \\\n",
       "8629                         1   \n",
       "10274                        1   \n",
       "4293                         1   \n",
       "2443                         0   \n",
       "16589                        0   \n",
       "...                        ...   \n",
       "3015                         1   \n",
       "26587                        0   \n",
       "19477                        1   \n",
       "30083                        0   \n",
       "7207                         0   \n",
       "\n",
       "                                              essay_text  \n",
       "8629   If the Summer is plagued with more work we sho...  \n",
       "10274  No one has ever landed on venus so the author ...  \n",
       "4293   First of all, NASA only gets their information...  \n",
       "2443   I think that the author describes how technolg...  \n",
       "16589  Dear Principle,\\n\\nI personally do not think s...  \n",
       "...                                                  ...  \n",
       "3015   When assigned a project during summer break, d...  \n",
       "26587  Dear, State Sentor\\n\\nI think the electoral co...  \n",
       "19477  Dear Floridas state senator, I am righting thi...  \n",
       "30083  Dear senator,\\n\\nGetting ride of the Electoral...  \n",
       "7207   The face is a landform because the planet must...  \n",
       "\n",
       "[29412 rows x 4 columns]"
      ]
     },
     "execution_count": 55,
     "metadata": {},
     "output_type": "execute_result"
    }
   ],
   "source": [
    "train_data"
   ]
  },
  {
   "cell_type": "code",
   "execution_count": 56,
   "metadata": {},
   "outputs": [
    {
     "data": {
      "text/html": [
       "<div>\n",
       "<style scoped>\n",
       "    .dataframe tbody tr th:only-of-type {\n",
       "        vertical-align: middle;\n",
       "    }\n",
       "\n",
       "    .dataframe tbody tr th {\n",
       "        vertical-align: top;\n",
       "    }\n",
       "\n",
       "    .dataframe thead th {\n",
       "        text-align: right;\n",
       "    }\n",
       "</style>\n",
       "<table border=\"1\" class=\"dataframe\">\n",
       "  <thead>\n",
       "    <tr style=\"text-align: right;\">\n",
       "      <th></th>\n",
       "      <th>discourse_text</th>\n",
       "      <th>discourse_type</th>\n",
       "      <th>discourse_effectiveness</th>\n",
       "      <th>essay_text</th>\n",
       "    </tr>\n",
       "  </thead>\n",
       "  <tbody>\n",
       "    <tr>\n",
       "      <th>8629</th>\n",
       "      <td>Instead of laying on the couch, eating, sleepi...</td>\n",
       "      <td>Evidence</td>\n",
       "      <td>1</td>\n",
       "      <td>If the Summer is plagued with more work we sho...</td>\n",
       "    </tr>\n",
       "    <tr>\n",
       "      <th>10274</th>\n",
       "      <td>like some simplified electronics made of silic...</td>\n",
       "      <td>Evidence</td>\n",
       "      <td>1</td>\n",
       "      <td>No one has ever landed on venus so the author ...</td>\n",
       "    </tr>\n",
       "    <tr>\n",
       "      <th>4293</th>\n",
       "      <td>Second, now to the conspiracy theorists, they ...</td>\n",
       "      <td>Counterclaim</td>\n",
       "      <td>1</td>\n",
       "      <td>First of all, NASA only gets their information...</td>\n",
       "    </tr>\n",
       "    <tr>\n",
       "      <th>2443</th>\n",
       "      <td>Third example has pathos catching peoples feel...</td>\n",
       "      <td>Claim</td>\n",
       "      <td>0</td>\n",
       "      <td>I think that the author describes how technolg...</td>\n",
       "    </tr>\n",
       "    <tr>\n",
       "      <th>16589</th>\n",
       "      <td>it would also in the world of to day make him ...</td>\n",
       "      <td>Claim</td>\n",
       "      <td>0</td>\n",
       "      <td>Dear Principle,\\n\\nI personally do not think s...</td>\n",
       "    </tr>\n",
       "    <tr>\n",
       "      <th>...</th>\n",
       "      <td>...</td>\n",
       "      <td>...</td>\n",
       "      <td>...</td>\n",
       "      <td>...</td>\n",
       "    </tr>\n",
       "    <tr>\n",
       "      <th>3015</th>\n",
       "      <td>it's their summer.</td>\n",
       "      <td>Claim</td>\n",
       "      <td>1</td>\n",
       "      <td>When assigned a project during summer break, d...</td>\n",
       "    </tr>\n",
       "    <tr>\n",
       "      <th>26587</th>\n",
       "      <td>I think people should be able to choose who t...</td>\n",
       "      <td>Evidence</td>\n",
       "      <td>0</td>\n",
       "      <td>Dear, State Sentor\\n\\nI think the electoral co...</td>\n",
       "    </tr>\n",
       "    <tr>\n",
       "      <th>19477</th>\n",
       "      <td>But you see there is up side to using the Elec...</td>\n",
       "      <td>Counterclaim</td>\n",
       "      <td>1</td>\n",
       "      <td>Dear Floridas state senator, I am righting thi...</td>\n",
       "    </tr>\n",
       "    <tr>\n",
       "      <th>30083</th>\n",
       "      <td>but we should at least get a vote on like new ...</td>\n",
       "      <td>Rebuttal</td>\n",
       "      <td>0</td>\n",
       "      <td>Dear senator,\\n\\nGetting ride of the Electoral...</td>\n",
       "    </tr>\n",
       "    <tr>\n",
       "      <th>7207</th>\n",
       "      <td>When they unveiled the image for all to see th...</td>\n",
       "      <td>Evidence</td>\n",
       "      <td>0</td>\n",
       "      <td>The face is a landform because the planet must...</td>\n",
       "    </tr>\n",
       "  </tbody>\n",
       "</table>\n",
       "<p>29412 rows × 4 columns</p>\n",
       "</div>"
      ],
      "text/plain": [
       "                                          discourse_text discourse_type  \\\n",
       "8629   Instead of laying on the couch, eating, sleepi...       Evidence   \n",
       "10274  like some simplified electronics made of silic...       Evidence   \n",
       "4293   Second, now to the conspiracy theorists, they ...   Counterclaim   \n",
       "2443   Third example has pathos catching peoples feel...          Claim   \n",
       "16589  it would also in the world of to day make him ...          Claim   \n",
       "...                                                  ...            ...   \n",
       "3015                                 it's their summer.           Claim   \n",
       "26587   I think people should be able to choose who t...       Evidence   \n",
       "19477  But you see there is up side to using the Elec...   Counterclaim   \n",
       "30083  but we should at least get a vote on like new ...       Rebuttal   \n",
       "7207   When they unveiled the image for all to see th...       Evidence   \n",
       "\n",
       "       discourse_effectiveness  \\\n",
       "8629                         1   \n",
       "10274                        1   \n",
       "4293                         1   \n",
       "2443                         0   \n",
       "16589                        0   \n",
       "...                        ...   \n",
       "3015                         1   \n",
       "26587                        0   \n",
       "19477                        1   \n",
       "30083                        0   \n",
       "7207                         0   \n",
       "\n",
       "                                              essay_text  \n",
       "8629   If the Summer is plagued with more work we sho...  \n",
       "10274  No one has ever landed on venus so the author ...  \n",
       "4293   First of all, NASA only gets their information...  \n",
       "2443   I think that the author describes how technolg...  \n",
       "16589  Dear Principle,\\n\\nI personally do not think s...  \n",
       "...                                                  ...  \n",
       "3015   When assigned a project during summer break, d...  \n",
       "26587  Dear, State Sentor\\n\\nI think the electoral co...  \n",
       "19477  Dear Floridas state senator, I am righting thi...  \n",
       "30083  Dear senator,\\n\\nGetting ride of the Electoral...  \n",
       "7207   The face is a landform because the planet must...  \n",
       "\n",
       "[29412 rows x 4 columns]"
      ]
     },
     "execution_count": 56,
     "metadata": {},
     "output_type": "execute_result"
    }
   ],
   "source": [
    "train_data"
   ]
  },
  {
   "cell_type": "code",
   "execution_count": 57,
   "metadata": {},
   "outputs": [
    {
     "data": {
      "text/plain": [
       "1    16781\n",
       "2     7461\n",
       "0     5170\n",
       "Name: discourse_effectiveness, dtype: int64"
      ]
     },
     "execution_count": 57,
     "metadata": {},
     "output_type": "execute_result"
    }
   ],
   "source": [
    "train_data.discourse_effectiveness.value_counts()"
   ]
  },
  {
   "cell_type": "code",
   "execution_count": 58,
   "metadata": {},
   "outputs": [],
   "source": [
    "X, Y = train_data.drop('discourse_effectiveness', axis=1, inplace = False), train_data.discourse_effectiveness"
   ]
  },
  {
   "cell_type": "code",
   "execution_count": 59,
   "metadata": {},
   "outputs": [],
   "source": [
    "train_indices, test_indices = list(skf.split(X, Y))[0]"
   ]
  },
  {
   "cell_type": "code",
   "execution_count": 60,
   "metadata": {},
   "outputs": [
    {
     "data": {
      "text/html": [
       "<div>\n",
       "<style scoped>\n",
       "    .dataframe tbody tr th:only-of-type {\n",
       "        vertical-align: middle;\n",
       "    }\n",
       "\n",
       "    .dataframe tbody tr th {\n",
       "        vertical-align: top;\n",
       "    }\n",
       "\n",
       "    .dataframe thead th {\n",
       "        text-align: right;\n",
       "    }\n",
       "</style>\n",
       "<table border=\"1\" class=\"dataframe\">\n",
       "  <thead>\n",
       "    <tr style=\"text-align: right;\">\n",
       "      <th></th>\n",
       "      <th>discourse_text</th>\n",
       "      <th>discourse_type</th>\n",
       "      <th>essay_text</th>\n",
       "    </tr>\n",
       "  </thead>\n",
       "  <tbody>\n",
       "    <tr>\n",
       "      <th>8629</th>\n",
       "      <td>Instead of laying on the couch, eating, sleepi...</td>\n",
       "      <td>Evidence</td>\n",
       "      <td>If the Summer is plagued with more work we sho...</td>\n",
       "    </tr>\n",
       "    <tr>\n",
       "      <th>10274</th>\n",
       "      <td>like some simplified electronics made of silic...</td>\n",
       "      <td>Evidence</td>\n",
       "      <td>No one has ever landed on venus so the author ...</td>\n",
       "    </tr>\n",
       "    <tr>\n",
       "      <th>4293</th>\n",
       "      <td>Second, now to the conspiracy theorists, they ...</td>\n",
       "      <td>Counterclaim</td>\n",
       "      <td>First of all, NASA only gets their information...</td>\n",
       "    </tr>\n",
       "    <tr>\n",
       "      <th>16589</th>\n",
       "      <td>it would also in the world of to day make him ...</td>\n",
       "      <td>Claim</td>\n",
       "      <td>Dear Principle,\\n\\nI personally do not think s...</td>\n",
       "    </tr>\n",
       "    <tr>\n",
       "      <th>8029</th>\n",
       "      <td>possible solution to the hostile condition on ...</td>\n",
       "      <td>Evidence</td>\n",
       "      <td>The author suggest that studying venus is a wo...</td>\n",
       "    </tr>\n",
       "    <tr>\n",
       "      <th>...</th>\n",
       "      <td>...</td>\n",
       "      <td>...</td>\n",
       "      <td>...</td>\n",
       "    </tr>\n",
       "    <tr>\n",
       "      <th>12974</th>\n",
       "      <td>and they need time to do their homework.</td>\n",
       "      <td>Claim</td>\n",
       "      <td>Can you believe that schools are now making st...</td>\n",
       "    </tr>\n",
       "    <tr>\n",
       "      <th>3015</th>\n",
       "      <td>it's their summer.</td>\n",
       "      <td>Claim</td>\n",
       "      <td>When assigned a project during summer break, d...</td>\n",
       "    </tr>\n",
       "    <tr>\n",
       "      <th>26587</th>\n",
       "      <td>I think people should be able to choose who t...</td>\n",
       "      <td>Evidence</td>\n",
       "      <td>Dear, State Sentor\\n\\nI think the electoral co...</td>\n",
       "    </tr>\n",
       "    <tr>\n",
       "      <th>19477</th>\n",
       "      <td>But you see there is up side to using the Elec...</td>\n",
       "      <td>Counterclaim</td>\n",
       "      <td>Dear Floridas state senator, I am righting thi...</td>\n",
       "    </tr>\n",
       "    <tr>\n",
       "      <th>7207</th>\n",
       "      <td>When they unveiled the image for all to see th...</td>\n",
       "      <td>Evidence</td>\n",
       "      <td>The face is a landform because the planet must...</td>\n",
       "    </tr>\n",
       "  </tbody>\n",
       "</table>\n",
       "<p>19608 rows × 3 columns</p>\n",
       "</div>"
      ],
      "text/plain": [
       "                                          discourse_text discourse_type  \\\n",
       "8629   Instead of laying on the couch, eating, sleepi...       Evidence   \n",
       "10274  like some simplified electronics made of silic...       Evidence   \n",
       "4293   Second, now to the conspiracy theorists, they ...   Counterclaim   \n",
       "16589  it would also in the world of to day make him ...          Claim   \n",
       "8029   possible solution to the hostile condition on ...       Evidence   \n",
       "...                                                  ...            ...   \n",
       "12974          and they need time to do their homework.           Claim   \n",
       "3015                                 it's their summer.           Claim   \n",
       "26587   I think people should be able to choose who t...       Evidence   \n",
       "19477  But you see there is up side to using the Elec...   Counterclaim   \n",
       "7207   When they unveiled the image for all to see th...       Evidence   \n",
       "\n",
       "                                              essay_text  \n",
       "8629   If the Summer is plagued with more work we sho...  \n",
       "10274  No one has ever landed on venus so the author ...  \n",
       "4293   First of all, NASA only gets their information...  \n",
       "16589  Dear Principle,\\n\\nI personally do not think s...  \n",
       "8029   The author suggest that studying venus is a wo...  \n",
       "...                                                  ...  \n",
       "12974  Can you believe that schools are now making st...  \n",
       "3015   When assigned a project during summer break, d...  \n",
       "26587  Dear, State Sentor\\n\\nI think the electoral co...  \n",
       "19477  Dear Floridas state senator, I am righting thi...  \n",
       "7207   The face is a landform because the planet must...  \n",
       "\n",
       "[19608 rows x 3 columns]"
      ]
     },
     "execution_count": 60,
     "metadata": {},
     "output_type": "execute_result"
    }
   ],
   "source": [
    "X.iloc[train_indices]"
   ]
  },
  {
   "cell_type": "code",
   "execution_count": 61,
   "metadata": {},
   "outputs": [
    {
     "data": {
      "text/plain": [
       "8629     1\n",
       "10274    1\n",
       "4293     1\n",
       "16589    0\n",
       "8029     1\n",
       "        ..\n",
       "12974    1\n",
       "3015     1\n",
       "26587    0\n",
       "19477    1\n",
       "7207     0\n",
       "Name: discourse_effectiveness, Length: 19608, dtype: int64"
      ]
     },
     "execution_count": 61,
     "metadata": {},
     "output_type": "execute_result"
    }
   ],
   "source": [
    "Y.iloc[train_indices]"
   ]
  },
  {
   "cell_type": "code",
   "execution_count": 62,
   "metadata": {},
   "outputs": [],
   "source": [
    "from cuml.linear_model.logistic_regression import LogisticRegression"
   ]
  },
  {
   "cell_type": "code",
   "execution_count": 63,
   "metadata": {},
   "outputs": [
    {
     "name": "stdout",
     "output_type": "stream",
     "text": [
      "\n",
      "Fold #1\n",
      "\tLog loss: 0.7851\n",
      "................................................................................\n",
      "\n",
      "Fold #2\n",
      "\tLog loss: 0.7943\n",
      "................................................................................\n",
      "\n",
      "Fold #3\n",
      "\tLog loss: 0.7769\n",
      "................................................................................\n",
      "================================================================================\n",
      "Mean loss: 0.7855\n"
     ]
    }
   ],
   "source": [
    "fold_counter = 1\n",
    "predictions = []\n",
    "\n",
    "losses = []\n",
    "\n",
    "for train_idxs, test_idxs in skf.split(X = X, y = Y):\n",
    "    \n",
    "    print()\n",
    "    print(f\"Fold #{fold_counter}\")\n",
    "    # print(X.shape, Y.shape)\n",
    "\n",
    "    X_train, Y_train = X.iloc[train_idxs], Y.iloc[train_idxs]\n",
    "    X_test, Y_test = X.iloc[test_idxs], Y.iloc[test_idxs]\n",
    "\n",
    "    vectorizer = TfidfVectorizer()\n",
    "    vectorizer.fit(X_train.essay_text.drop_duplicates())\n",
    "\n",
    "    vectorized_discourse_text_train = vectorizer.transform(X_train.discourse_text)\n",
    "    vectorized_discourse_text_test = vectorizer.transform(X_test.discourse_text)\n",
    "\n",
    "    ohe = OneHotEncoder()\n",
    "    ohe_discourse_type_train = ohe.fit_transform(X_train.discourse_type.values.reshape(-1, 1))\n",
    "    ohe_discourse_type_test = ohe.transform(X_test.discourse_type.values.reshape(-1, 1))\n",
    "\n",
    "    X_train = sparse.hstack((vectorized_discourse_text_train, ohe_discourse_type_train))\n",
    "    X_test = sparse.hstack((vectorized_discourse_text_test, ohe_discourse_type_test))\n",
    "    \n",
    "    # print(f\"Vectorized data shape:\")\n",
    "    # print(f\"\\t{X_train.shape}\")\n",
    "    # print(f\"\\t{Y_train.shape}\")\n",
    "    # print(f\"\\t{X_test.shape}\")\n",
    "    # print(f\"\\t{Y_test.shape}\")\n",
    "\n",
    "\n",
    "    model = LogisticRegression()\n",
    "    model.fit(X_train, Y_train)\n",
    "    y_pred = model.predict_proba(X_test)\n",
    "\n",
    "    loss = log_loss(y_true = Y_test, y_pred = y_pred)\n",
    "    losses.append(loss)\n",
    "    print(f\"\\tLog loss: {loss:.4}\")\n",
    "\n",
    "    print(80*'.')\n",
    "    \n",
    "\n",
    "    fold_counter += 1\n",
    "\n",
    "print(80*'=')\n",
    "print(f\"Mean loss: {np.mean(losses):.4}\")"
   ]
  },
  {
   "cell_type": "code",
   "execution_count": 64,
   "metadata": {},
   "outputs": [
    {
     "name": "stdout",
     "output_type": "stream",
     "text": [
      "\n",
      "Fold #1\n"
     ]
    },
    {
     "ename": "ValueError",
     "evalue": "The number of classes in labels is different from that in y_pred. Classes found in labels: [0 1 2]",
     "output_type": "error",
     "traceback": [
      "\u001b[0;31m---------------------------------------------------------------------------\u001b[0m",
      "\u001b[0;31mValueError\u001b[0m                                Traceback (most recent call last)",
      "\u001b[1;32m/home/hdd_n/Desktop/hnnaharendt/feedback-kaggle/experimentation.ipynb Cell 28'\u001b[0m in \u001b[0;36m<cell line: 6>\u001b[0;34m()\u001b[0m\n\u001b[1;32m     <a href='vscode-notebook-cell:/home/hdd_n/Desktop/hnnaharendt/feedback-kaggle/experimentation.ipynb#ch0000031?line=35'>36</a>\u001b[0m model\u001b[39m.\u001b[39mfit(X_train, Y_train)\n\u001b[1;32m     <a href='vscode-notebook-cell:/home/hdd_n/Desktop/hnnaharendt/feedback-kaggle/experimentation.ipynb#ch0000031?line=36'>37</a>\u001b[0m y_pred \u001b[39m=\u001b[39m model\u001b[39m.\u001b[39mpredict(X_test)\n\u001b[0;32m---> <a href='vscode-notebook-cell:/home/hdd_n/Desktop/hnnaharendt/feedback-kaggle/experimentation.ipynb#ch0000031?line=38'>39</a>\u001b[0m loss \u001b[39m=\u001b[39m log_loss(y_true \u001b[39m=\u001b[39;49m Y_test, y_pred \u001b[39m=\u001b[39;49m y_pred, labels\u001b[39m=\u001b[39;49m[\u001b[39m0\u001b[39;49m,\u001b[39m1\u001b[39;49m,\u001b[39m2\u001b[39;49m])\n\u001b[1;32m     <a href='vscode-notebook-cell:/home/hdd_n/Desktop/hnnaharendt/feedback-kaggle/experimentation.ipynb#ch0000031?line=39'>40</a>\u001b[0m losses\u001b[39m.\u001b[39mappend(loss)\n\u001b[1;32m     <a href='vscode-notebook-cell:/home/hdd_n/Desktop/hnnaharendt/feedback-kaggle/experimentation.ipynb#ch0000031?line=40'>41</a>\u001b[0m \u001b[39mprint\u001b[39m(\u001b[39mf\u001b[39m\u001b[39m\"\u001b[39m\u001b[39m\\t\u001b[39;00m\u001b[39mLog loss: \u001b[39m\u001b[39m{\u001b[39;00mloss\u001b[39m:\u001b[39;00m\u001b[39m.4\u001b[39m\u001b[39m}\u001b[39;00m\u001b[39m\"\u001b[39m)\n",
      "File \u001b[0;32m~/mambaforge/envs/rapids-22.04/lib/python3.9/site-packages/sklearn/metrics/_classification.py:2449\u001b[0m, in \u001b[0;36mlog_loss\u001b[0;34m(y_true, y_pred, eps, normalize, sample_weight, labels)\u001b[0m\n\u001b[1;32m   <a href='file:///home/hdd_n/mambaforge/envs/rapids-22.04/lib/python3.9/site-packages/sklearn/metrics/_classification.py?line=2438'>2439</a>\u001b[0m         \u001b[39mraise\u001b[39;00m \u001b[39mValueError\u001b[39;00m(\n\u001b[1;32m   <a href='file:///home/hdd_n/mambaforge/envs/rapids-22.04/lib/python3.9/site-packages/sklearn/metrics/_classification.py?line=2439'>2440</a>\u001b[0m             \u001b[39m\"\u001b[39m\u001b[39my_true and y_pred contain different number of \u001b[39m\u001b[39m\"\u001b[39m\n\u001b[1;32m   <a href='file:///home/hdd_n/mambaforge/envs/rapids-22.04/lib/python3.9/site-packages/sklearn/metrics/_classification.py?line=2440'>2441</a>\u001b[0m             \u001b[39m\"\u001b[39m\u001b[39mclasses \u001b[39m\u001b[39m{0}\u001b[39;00m\u001b[39m, \u001b[39m\u001b[39m{1}\u001b[39;00m\u001b[39m. Please provide the true \u001b[39m\u001b[39m\"\u001b[39m\n\u001b[0;32m   (...)\u001b[0m\n\u001b[1;32m   <a href='file:///home/hdd_n/mambaforge/envs/rapids-22.04/lib/python3.9/site-packages/sklearn/metrics/_classification.py?line=2445'>2446</a>\u001b[0m             )\n\u001b[1;32m   <a href='file:///home/hdd_n/mambaforge/envs/rapids-22.04/lib/python3.9/site-packages/sklearn/metrics/_classification.py?line=2446'>2447</a>\u001b[0m         )\n\u001b[1;32m   <a href='file:///home/hdd_n/mambaforge/envs/rapids-22.04/lib/python3.9/site-packages/sklearn/metrics/_classification.py?line=2447'>2448</a>\u001b[0m     \u001b[39melse\u001b[39;00m:\n\u001b[0;32m-> <a href='file:///home/hdd_n/mambaforge/envs/rapids-22.04/lib/python3.9/site-packages/sklearn/metrics/_classification.py?line=2448'>2449</a>\u001b[0m         \u001b[39mraise\u001b[39;00m \u001b[39mValueError\u001b[39;00m(\n\u001b[1;32m   <a href='file:///home/hdd_n/mambaforge/envs/rapids-22.04/lib/python3.9/site-packages/sklearn/metrics/_classification.py?line=2449'>2450</a>\u001b[0m             \u001b[39m\"\u001b[39m\u001b[39mThe number of classes in labels is different \u001b[39m\u001b[39m\"\u001b[39m\n\u001b[1;32m   <a href='file:///home/hdd_n/mambaforge/envs/rapids-22.04/lib/python3.9/site-packages/sklearn/metrics/_classification.py?line=2450'>2451</a>\u001b[0m             \u001b[39m\"\u001b[39m\u001b[39mfrom that in y_pred. Classes found in \u001b[39m\u001b[39m\"\u001b[39m\n\u001b[1;32m   <a href='file:///home/hdd_n/mambaforge/envs/rapids-22.04/lib/python3.9/site-packages/sklearn/metrics/_classification.py?line=2451'>2452</a>\u001b[0m             \u001b[39m\"\u001b[39m\u001b[39mlabels: \u001b[39m\u001b[39m{0}\u001b[39;00m\u001b[39m\"\u001b[39m\u001b[39m.\u001b[39mformat(lb\u001b[39m.\u001b[39mclasses_)\n\u001b[1;32m   <a href='file:///home/hdd_n/mambaforge/envs/rapids-22.04/lib/python3.9/site-packages/sklearn/metrics/_classification.py?line=2452'>2453</a>\u001b[0m         )\n\u001b[1;32m   <a href='file:///home/hdd_n/mambaforge/envs/rapids-22.04/lib/python3.9/site-packages/sklearn/metrics/_classification.py?line=2454'>2455</a>\u001b[0m \u001b[39m# Renormalize\u001b[39;00m\n\u001b[1;32m   <a href='file:///home/hdd_n/mambaforge/envs/rapids-22.04/lib/python3.9/site-packages/sklearn/metrics/_classification.py?line=2455'>2456</a>\u001b[0m y_pred \u001b[39m/\u001b[39m\u001b[39m=\u001b[39m y_pred\u001b[39m.\u001b[39msum(axis\u001b[39m=\u001b[39m\u001b[39m1\u001b[39m)[:, np\u001b[39m.\u001b[39mnewaxis]\n",
      "\u001b[0;31mValueError\u001b[0m: The number of classes in labels is different from that in y_pred. Classes found in labels: [0 1 2]"
     ]
    }
   ],
   "source": [
    "fold_counter = 1\n",
    "predictions = []\n",
    "\n",
    "losses = []\n",
    "\n",
    "for train_idxs, test_idxs in skf.split(X = X, y = Y):\n",
    "    \n",
    "    print()\n",
    "    print(f\"Fold #{fold_counter}\")\n",
    "    # print(X.shape, Y.shape)\n",
    "\n",
    "    X_train, Y_train = X.iloc[train_idxs], Y.iloc[train_idxs]\n",
    "    X_test, Y_test = X.iloc[test_idxs], Y.iloc[test_idxs]\n",
    "\n",
    "    vectorizer = TfidfVectorizer()\n",
    "    vectorizer.fit(X_train.essay_text.drop_duplicates())\n",
    "\n",
    "    vectorized_discourse_text_train = vectorizer.transform(X_train.discourse_text)\n",
    "    vectorized_discourse_text_test = vectorizer.transform(X_test.discourse_text)\n",
    "\n",
    "    ohe = OneHotEncoder()\n",
    "    ohe_discourse_type_train = ohe.fit_transform(X_train.discourse_type.values.reshape(-1, 1))\n",
    "    ohe_discourse_type_test = ohe.transform(X_test.discourse_type.values.reshape(-1, 1))\n",
    "\n",
    "    X_train = sparse.hstack((vectorized_discourse_text_train, ohe_discourse_type_train))\n",
    "    X_test = sparse.hstack((vectorized_discourse_text_test, ohe_discourse_type_test))\n",
    "    \n",
    "    # print(f\"Vectorized data shape:\")\n",
    "    # print(f\"\\t{X_train.shape}\")\n",
    "    # print(f\"\\t{Y_train.shape}\")\n",
    "    # print(f\"\\t{X_test.shape}\")\n",
    "    # print(f\"\\t{Y_test.shape}\")\n",
    "\n",
    "\n",
    "    model = LogisticRegression()\n",
    "    model.fit(X_train, Y_train)\n",
    "    y_pred = model.predict(X_test)\n",
    "\n",
    "    loss = log_loss(y_true = Y_test, y_pred = y_pred, labels=[0,1,2])\n",
    "    losses.append(loss)\n",
    "    print(f\"\\tLog loss: {loss:.4}\")\n",
    "\n",
    "    print(80*'.')\n",
    "    \n",
    "\n",
    "    fold_counter += 1\n",
    "\n",
    "print(80*'=')\n",
    "print(f\"Mean loss: {np.mean(losses):.4}\")"
   ]
  },
  {
   "cell_type": "code",
   "execution_count": 68,
   "metadata": {},
   "outputs": [
    {
     "ename": "IndexError",
     "evalue": "too many indices for array: array is 1-dimensional, but 3 were indexed",
     "output_type": "error",
     "traceback": [
      "\u001b[0;31m---------------------------------------------------------------------------\u001b[0m",
      "\u001b[0;31mIndexError\u001b[0m                                Traceback (most recent call last)",
      "\u001b[1;32m/home/hdd_n/Desktop/hnnaharendt/feedback-kaggle/experimentation.ipynb Cell 29'\u001b[0m in \u001b[0;36m<cell line: 1>\u001b[0;34m()\u001b[0m\n\u001b[0;32m----> <a href='vscode-notebook-cell:/home/hdd_n/Desktop/hnnaharendt/feedback-kaggle/experimentation.ipynb#ch0000032?line=0'>1</a>\u001b[0m y_pred[:,:,:]\n",
      "\u001b[0;31mIndexError\u001b[0m: too many indices for array: array is 1-dimensional, but 3 were indexed"
     ]
    }
   ],
   "source": [
    "y_pred[:,:,:]"
   ]
  },
  {
   "cell_type": "code",
   "execution_count": 66,
   "metadata": {},
   "outputs": [
    {
     "data": {
      "text/plain": [
       "2443     0\n",
       "28568    0\n",
       "31014    1\n",
       "8081     0\n",
       "3896     0\n",
       "        ..\n",
       "32679    1\n",
       "20658    0\n",
       "16917    1\n",
       "11908    1\n",
       "30083    0\n",
       "Name: discourse_effectiveness, Length: 9804, dtype: int64"
      ]
     },
     "execution_count": 66,
     "metadata": {},
     "output_type": "execute_result"
    }
   ],
   "source": [
    "Y_test"
   ]
  },
  {
   "cell_type": "code",
   "execution_count": 39,
   "metadata": {},
   "outputs": [
    {
     "data": {
      "text/plain": [
       "array([[0.46227647, 0.41620552, 0.12151801],\n",
       "       [0.26090171, 0.53043784, 0.20866045],\n",
       "       [0.34768194, 0.56750608, 0.08481198],\n",
       "       ...,\n",
       "       [0.14515932, 0.68320297, 0.17163771],\n",
       "       [0.17517479, 0.64892156, 0.17590365],\n",
       "       [0.31420527, 0.61531654, 0.0704782 ]])"
      ]
     },
     "execution_count": 39,
     "metadata": {},
     "output_type": "execute_result"
    }
   ],
   "source": [
    "y_pred"
   ]
  },
  {
   "cell_type": "code",
   "execution_count": 69,
   "metadata": {},
   "outputs": [],
   "source": [
    "from cuml.svm import SVC"
   ]
  },
  {
   "cell_type": "code",
   "execution_count": 45,
   "metadata": {},
   "outputs": [
    {
     "name": "stdout",
     "output_type": "stream",
     "text": [
      "Fold #1\n"
     ]
    },
    {
     "name": "stderr",
     "output_type": "stream",
     "text": [
      "2022/07/26 03:10:15 INFO mlflow.utils.autologging_utils: Created MLflow autologging run with ID 'ee288593db5b4c4da142be1fa8488757', which will track hyperparameters, performance metrics, model artifacts, and lineage information for the current sklearn workflow\n",
      "/home/hdd_n/mambaforge/envs/rapids-22.04/lib/python3.9/site-packages/sklearn/utils/validation.py:727: FutureWarning: np.matrix usage is deprecated in 1.0 and will raise a TypeError in 1.2. Please convert to a numpy array with np.asarray. For more information see: https://numpy.org/doc/stable/reference/generated/numpy.matrix.html\n",
      "  warnings.warn(\n",
      "/home/hdd_n/mambaforge/envs/rapids-22.04/lib/python3.9/site-packages/sklearn/utils/validation.py:727: FutureWarning: np.matrix usage is deprecated in 1.0 and will raise a TypeError in 1.2. Please convert to a numpy array with np.asarray. For more information see: https://numpy.org/doc/stable/reference/generated/numpy.matrix.html\n",
      "  warnings.warn(\n",
      "2022/07/26 03:13:05 WARNING mlflow.sklearn.utils: Failed to autolog metrics for OneVsOneClassifier. Logging error: std::bad_alloc: out_of_memory: CUDA error at: /workspace/.conda-bld/work/include/rmm/mr/device/cuda_memory_resource.hpp:70: cudaErrorMemoryAllocation out of memory\n",
      "/home/hdd_n/mambaforge/envs/rapids-22.04/lib/python3.9/site-packages/sklearn/utils/validation.py:727: FutureWarning: np.matrix usage is deprecated in 1.0 and will raise a TypeError in 1.2. Please convert to a numpy array with np.asarray. For more information see: https://numpy.org/doc/stable/reference/generated/numpy.matrix.html\n",
      "  warnings.warn(\n",
      "2022/07/26 03:13:06 WARNING mlflow.sklearn.utils: _get_classifier_artifacts.<locals>.plot_confusion_matrix failed. The artifact training_confusion_matrix will not be recorded. Artifact error: std::bad_alloc: out_of_memory: CUDA error at: /workspace/.conda-bld/work/include/rmm/mr/device/cuda_memory_resource.hpp:70: cudaErrorMemoryAllocation out of memory\n",
      "/home/hdd_n/mambaforge/envs/rapids-22.04/lib/python3.9/site-packages/sklearn/utils/validation.py:727: FutureWarning: np.matrix usage is deprecated in 1.0 and will raise a TypeError in 1.2. Please convert to a numpy array with np.asarray. For more information see: https://numpy.org/doc/stable/reference/generated/numpy.matrix.html\n",
      "  warnings.warn(\n",
      "2022/07/26 03:13:06 WARNING mlflow.sklearn.utils: ClassifierMixin.score failed. The 'training_score' metric will not be recorded. Scoring error: std::bad_alloc: out_of_memory: CUDA error at: /workspace/.conda-bld/work/include/rmm/mr/device/cuda_memory_resource.hpp:70: cudaErrorMemoryAllocation out of memory\n",
      "/home/hdd_n/mambaforge/envs/rapids-22.04/lib/python3.9/site-packages/sklearn/utils/validation.py:727: FutureWarning: np.matrix usage is deprecated in 1.0 and will raise a TypeError in 1.2. Please convert to a numpy array with np.asarray. For more information see: https://numpy.org/doc/stable/reference/generated/numpy.matrix.html\n",
      "  warnings.warn(\n",
      "2022/07/26 03:13:18 WARNING mlflow.utils.requirements_utils: The following packages were not found in the public PyPI package index as of 2022-05-13; if these packages are not present in the public PyPI index, you must install them manually before loading your model: {'ptxcompiler'}\n",
      "/home/hdd_n/mambaforge/envs/rapids-22.04/lib/python3.9/site-packages/sklearn/utils/validation.py:727: FutureWarning: np.matrix usage is deprecated in 1.0 and will raise a TypeError in 1.2. Please convert to a numpy array with np.asarray. For more information see: https://numpy.org/doc/stable/reference/generated/numpy.matrix.html\n",
      "  warnings.warn(\n"
     ]
    },
    {
     "ename": "ValueError",
     "evalue": "The number of classes in labels is different from that in y_pred. Classes found in labels: [0 1 2]",
     "output_type": "error",
     "traceback": [
      "\u001b[0;31m---------------------------------------------------------------------------\u001b[0m",
      "\u001b[0;31mValueError\u001b[0m                                Traceback (most recent call last)",
      "\u001b[1;32m/home/hdd_n/Desktop/hnnaharendt/feedback-kaggle/experimentation.ipynb Cell 29'\u001b[0m in \u001b[0;36m<cell line: 6>\u001b[0;34m()\u001b[0m\n\u001b[1;32m     <a href='vscode-notebook-cell:/home/hdd_n/Desktop/hnnaharendt/feedback-kaggle/experimentation.ipynb#ch0000028?line=34'>35</a>\u001b[0m model\u001b[39m.\u001b[39mfit(X_train\u001b[39m.\u001b[39mtodense(), Y_train)\n\u001b[1;32m     <a href='vscode-notebook-cell:/home/hdd_n/Desktop/hnnaharendt/feedback-kaggle/experimentation.ipynb#ch0000028?line=35'>36</a>\u001b[0m y_pred \u001b[39m=\u001b[39m model\u001b[39m.\u001b[39mpredict(X_test\u001b[39m.\u001b[39mtodense())\n\u001b[0;32m---> <a href='vscode-notebook-cell:/home/hdd_n/Desktop/hnnaharendt/feedback-kaggle/experimentation.ipynb#ch0000028?line=37'>38</a>\u001b[0m loss \u001b[39m=\u001b[39m log_loss(y_true \u001b[39m=\u001b[39;49m Y_test, y_pred \u001b[39m=\u001b[39;49m y_pred, labels\u001b[39m=\u001b[39;49m[\u001b[39m0\u001b[39;49m,\u001b[39m1\u001b[39;49m,\u001b[39m2\u001b[39;49m])\n\u001b[1;32m     <a href='vscode-notebook-cell:/home/hdd_n/Desktop/hnnaharendt/feedback-kaggle/experimentation.ipynb#ch0000028?line=39'>40</a>\u001b[0m \u001b[39mprint\u001b[39m(\u001b[39mf\u001b[39m\u001b[39m\"\u001b[39m\u001b[39m\\t\u001b[39;00m\u001b[39mLog loss: \u001b[39m\u001b[39m{\u001b[39;00mloss\u001b[39m}\u001b[39;00m\u001b[39m\"\u001b[39m)\n\u001b[1;32m     <a href='vscode-notebook-cell:/home/hdd_n/Desktop/hnnaharendt/feedback-kaggle/experimentation.ipynb#ch0000028?line=41'>42</a>\u001b[0m \u001b[39mprint\u001b[39m(\u001b[39m80\u001b[39m\u001b[39m*\u001b[39m\u001b[39m'\u001b[39m\u001b[39m.\u001b[39m\u001b[39m'\u001b[39m)\n",
      "File \u001b[0;32m~/mambaforge/envs/rapids-22.04/lib/python3.9/site-packages/sklearn/metrics/_classification.py:2449\u001b[0m, in \u001b[0;36mlog_loss\u001b[0;34m(y_true, y_pred, eps, normalize, sample_weight, labels)\u001b[0m\n\u001b[1;32m   <a href='file:///home/hdd_n/mambaforge/envs/rapids-22.04/lib/python3.9/site-packages/sklearn/metrics/_classification.py?line=2438'>2439</a>\u001b[0m         \u001b[39mraise\u001b[39;00m \u001b[39mValueError\u001b[39;00m(\n\u001b[1;32m   <a href='file:///home/hdd_n/mambaforge/envs/rapids-22.04/lib/python3.9/site-packages/sklearn/metrics/_classification.py?line=2439'>2440</a>\u001b[0m             \u001b[39m\"\u001b[39m\u001b[39my_true and y_pred contain different number of \u001b[39m\u001b[39m\"\u001b[39m\n\u001b[1;32m   <a href='file:///home/hdd_n/mambaforge/envs/rapids-22.04/lib/python3.9/site-packages/sklearn/metrics/_classification.py?line=2440'>2441</a>\u001b[0m             \u001b[39m\"\u001b[39m\u001b[39mclasses \u001b[39m\u001b[39m{0}\u001b[39;00m\u001b[39m, \u001b[39m\u001b[39m{1}\u001b[39;00m\u001b[39m. Please provide the true \u001b[39m\u001b[39m\"\u001b[39m\n\u001b[0;32m   (...)\u001b[0m\n\u001b[1;32m   <a href='file:///home/hdd_n/mambaforge/envs/rapids-22.04/lib/python3.9/site-packages/sklearn/metrics/_classification.py?line=2445'>2446</a>\u001b[0m             )\n\u001b[1;32m   <a href='file:///home/hdd_n/mambaforge/envs/rapids-22.04/lib/python3.9/site-packages/sklearn/metrics/_classification.py?line=2446'>2447</a>\u001b[0m         )\n\u001b[1;32m   <a href='file:///home/hdd_n/mambaforge/envs/rapids-22.04/lib/python3.9/site-packages/sklearn/metrics/_classification.py?line=2447'>2448</a>\u001b[0m     \u001b[39melse\u001b[39;00m:\n\u001b[0;32m-> <a href='file:///home/hdd_n/mambaforge/envs/rapids-22.04/lib/python3.9/site-packages/sklearn/metrics/_classification.py?line=2448'>2449</a>\u001b[0m         \u001b[39mraise\u001b[39;00m \u001b[39mValueError\u001b[39;00m(\n\u001b[1;32m   <a href='file:///home/hdd_n/mambaforge/envs/rapids-22.04/lib/python3.9/site-packages/sklearn/metrics/_classification.py?line=2449'>2450</a>\u001b[0m             \u001b[39m\"\u001b[39m\u001b[39mThe number of classes in labels is different \u001b[39m\u001b[39m\"\u001b[39m\n\u001b[1;32m   <a href='file:///home/hdd_n/mambaforge/envs/rapids-22.04/lib/python3.9/site-packages/sklearn/metrics/_classification.py?line=2450'>2451</a>\u001b[0m             \u001b[39m\"\u001b[39m\u001b[39mfrom that in y_pred. Classes found in \u001b[39m\u001b[39m\"\u001b[39m\n\u001b[1;32m   <a href='file:///home/hdd_n/mambaforge/envs/rapids-22.04/lib/python3.9/site-packages/sklearn/metrics/_classification.py?line=2451'>2452</a>\u001b[0m             \u001b[39m\"\u001b[39m\u001b[39mlabels: \u001b[39m\u001b[39m{0}\u001b[39;00m\u001b[39m\"\u001b[39m\u001b[39m.\u001b[39mformat(lb\u001b[39m.\u001b[39mclasses_)\n\u001b[1;32m   <a href='file:///home/hdd_n/mambaforge/envs/rapids-22.04/lib/python3.9/site-packages/sklearn/metrics/_classification.py?line=2452'>2453</a>\u001b[0m         )\n\u001b[1;32m   <a href='file:///home/hdd_n/mambaforge/envs/rapids-22.04/lib/python3.9/site-packages/sklearn/metrics/_classification.py?line=2454'>2455</a>\u001b[0m \u001b[39m# Renormalize\u001b[39;00m\n\u001b[1;32m   <a href='file:///home/hdd_n/mambaforge/envs/rapids-22.04/lib/python3.9/site-packages/sklearn/metrics/_classification.py?line=2455'>2456</a>\u001b[0m y_pred \u001b[39m/\u001b[39m\u001b[39m=\u001b[39m y_pred\u001b[39m.\u001b[39msum(axis\u001b[39m=\u001b[39m\u001b[39m1\u001b[39m)[:, np\u001b[39m.\u001b[39mnewaxis]\n",
      "\u001b[0;31mValueError\u001b[0m: The number of classes in labels is different from that in y_pred. Classes found in labels: [0 1 2]"
     ]
    },
    {
     "data": {
      "image/png": "[encoded data removed]",
      "text/plain": [
       "<Figure size 1050x700 with 1 Axes>"
      ]
     },
     "metadata": {},
     "output_type": "display_data"
    }
   ],
   "source": [
    "fold_counter = 1\n",
    "predictions = []\n",
    "y_pred_final_lr = np.zeros((X_test.shape[0], 3))\n",
    "\n",
    "\n",
    "for train_idxs, test_idxs in skf.split(X = X, y = Y):\n",
    "    \n",
    "    print(f\"Fold #{fold_counter}\")\n",
    "    # print(X.shape, Y.shape)\n",
    "\n",
    "    X_train, Y_train = X.iloc[train_idxs], Y.iloc[train_idxs]\n",
    "    X_test, Y_test = X.iloc[test_idxs], Y.iloc[test_idxs]\n",
    "\n",
    "\n",
    "    vectorizer = TfidfVectorizer()\n",
    "    vectorizer.fit(X_train.essay_text.drop_duplicates())\n",
    "\n",
    "    vectorized_discourse_text_train = vectorizer.transform(X_train.discourse_text)\n",
    "    vectorized_discourse_text_test = vectorizer.transform(X_test.discourse_text)\n",
    "\n",
    "    ohe = OneHotEncoder()\n",
    "    ohe_discourse_type_train = ohe.fit_transform(X_train.discourse_type.values.reshape(-1, 1))\n",
    "    ohe_discourse_type_test = ohe.transform(X_test.discourse_type.values.reshape(-1, 1))\n",
    "\n",
    "    X_train = sparse.hstack((vectorized_discourse_text_train, ohe_discourse_type_train))\n",
    "    X_test = sparse.hstack((vectorized_discourse_text_test, ohe_discourse_type_test))\n",
    "    \n",
    "    # print(f\"Vectorized data shape:\")\n",
    "    # print(f\"\\t{X_train.shape}\")\n",
    "    # print(f\"\\t{Y_train.shape}\")\n",
    "    # print(f\"\\t{X_test.shape}\")\n",
    "    # print(f\"\\t{Y_test.shape}\")\n",
    "\n",
    "\n",
    "    model = SVC()\n",
    "    model.fit(X_train.todense(), Y_train)\n",
    "    y_pred = model.predict(X_test.todense())\n",
    "\n",
    "    loss = log_loss(y_true = Y_test, y_pred = y_pred, labels=[0,1,2])\n",
    "\n",
    "    print(f\"\\tLog loss: {loss}\")\n",
    "\n",
    "    print(80*'.')\n",
    "    print()\n",
    "\n",
    "    fold_counter += 1\n"
   ]
  },
  {
   "cell_type": "markdown",
   "metadata": {},
   "source": [
    "Hopefully this will do, last time one fold took apprx. one hour. let's see. v"
   ]
  },
  {
   "cell_type": "code",
   "execution_count": 86,
   "metadata": {},
   "outputs": [
    {
     "name": "stderr",
     "output_type": "stream",
     "text": [
      "/home/hdd_n/mambaforge/envs/rapids-22.04/lib/python3.9/site-packages/sklearn/utils/validation.py:727: FutureWarning: np.matrix usage is deprecated in 1.0 and will raise a TypeError in 1.2. Please convert to a numpy array with np.asarray. For more information see: https://numpy.org/doc/stable/reference/generated/numpy.matrix.html\n",
      "  warnings.warn(\n",
      "/home/hdd_n/mambaforge/envs/rapids-22.04/lib/python3.9/site-packages/sklearn/utils/validation.py:727: FutureWarning: np.matrix usage is deprecated in 1.0 and will raise a TypeError in 1.2. Please convert to a numpy array with np.asarray. For more information see: https://numpy.org/doc/stable/reference/generated/numpy.matrix.html\n",
      "  warnings.warn(\n"
     ]
    },
    {
     "name": "stdout",
     "output_type": "stream",
     "text": [
      "\tLog loss: 12.100020083275696\n",
      "................................................................................\n",
      "\n"
     ]
    }
   ],
   "source": [
    "fold_counter = 1\n",
    "predictions = []\n",
    "y_pred_final_lr = np.zeros((X_test.shape[0], 3))\n",
    "\n",
    "\n",
    "\n",
    "X_train, X_test, Y_train, Y_test = train_test_split(X, Y, test_size=.20, random_state=RANDOM_SEED)\n",
    "\n",
    "\n",
    "vectorizer = TfidfVectorizer()\n",
    "vectorizer.fit(X_train.essay_text.drop_duplicates())\n",
    "\n",
    "vectorized_discourse_text_train = vectorizer.transform(X_train.discourse_text)\n",
    "vectorized_discourse_text_test = vectorizer.transform(X_test.discourse_text)\n",
    "\n",
    "ohe = OneHotEncoder()\n",
    "ohe_discourse_type_train = ohe.fit_transform(X_train.discourse_type.values.reshape(-1, 1))\n",
    "ohe_discourse_type_test = ohe.transform(X_test.discourse_type.values.reshape(-1, 1))\n",
    "\n",
    "X_train = sparse.hstack((vectorized_discourse_text_train, ohe_discourse_type_train))\n",
    "X_test = sparse.hstack((vectorized_discourse_text_test, ohe_discourse_type_test))\n",
    "\n",
    "# print(f\"Vectorized data shape:\")\n",
    "# print(f\"\\t{X_train.shape}\")\n",
    "# print(f\"\\t{Y_train.shape}\")\n",
    "# print(f\"\\t{X_test.shape}\")\n",
    "# print(f\"\\t{Y_test.shape}\")\n",
    "\n",
    "\n",
    "model = SVC()\n",
    "model.fit(X_train.todense(), Y_train)\n",
    "y_pred = model.predict(X_test.todense())\n",
    "\n",
    "n_values = np.max(np.unique(y_pred)) + 1\n",
    "y_pred = np.eye(n_values)[y_pred]\n",
    "\n",
    "loss = log_loss(y_true = Y_test, y_pred = y_pred)\n",
    "\n",
    "\n",
    "\n",
    "print(f\"\\tLog loss: {loss}\")\n",
    "\n",
    "print(80*'.')\n",
    "print()\n",
    "\n",
    "fold_counter += 1"
   ]
  },
  {
   "cell_type": "code",
   "execution_count": 84,
   "metadata": {},
   "outputs": [],
   "source": [
    "n_values = np.max(np.unique(y_pred)) + 1\n",
    "cc = np.eye(n_values)[y_pred]"
   ]
  },
  {
   "cell_type": "code",
   "execution_count": 85,
   "metadata": {},
   "outputs": [
    {
     "data": {
      "text/plain": [
       "array([0., 1.])"
      ]
     },
     "execution_count": 85,
     "metadata": {},
     "output_type": "execute_result"
    }
   ],
   "source": [
    "np.unique(cc)"
   ]
  },
  {
   "cell_type": "code",
   "execution_count": 80,
   "metadata": {},
   "outputs": [
    {
     "data": {
      "text/plain": [
       "array([0, 1, 2])"
      ]
     },
     "execution_count": 80,
     "metadata": {},
     "output_type": "execute_result"
    }
   ],
   "source": [
    "np.unique(Y_test)"
   ]
  },
  {
   "cell_type": "code",
   "execution_count": 82,
   "metadata": {},
   "outputs": [
    {
     "ename": "ValueError",
     "evalue": "Expected 2D array, got 1D array instead:\narray=[1 1 1 ... 1 1 1].\nReshape your data either using array.reshape(-1, 1) if your data has a single feature or array.reshape(1, -1) if it contains a single sample.",
     "output_type": "error",
     "traceback": [
      "\u001b[0;31m---------------------------------------------------------------------------\u001b[0m",
      "\u001b[0;31mValueError\u001b[0m                                Traceback (most recent call last)",
      "\u001b[1;32m/home/hdd_n/Desktop/hnnaharendt/feedback-kaggle/experimentation.ipynb Cell 38'\u001b[0m in \u001b[0;36m<cell line: 2>\u001b[0;34m()\u001b[0m\n\u001b[1;32m      <a href='vscode-notebook-cell:/home/hdd_n/Desktop/hnnaharendt/feedback-kaggle/experimentation.ipynb#ch0000041?line=0'>1</a>\u001b[0m ohe_pred \u001b[39m=\u001b[39m OneHotEncoder()\n\u001b[0;32m----> <a href='vscode-notebook-cell:/home/hdd_n/Desktop/hnnaharendt/feedback-kaggle/experimentation.ipynb#ch0000041?line=1'>2</a>\u001b[0m ohe_pred\u001b[39m.\u001b[39;49mfit_transform(y_pred)\n",
      "File \u001b[0;32m~/mambaforge/envs/rapids-22.04/lib/python3.9/site-packages/sklearn/preprocessing/_encoders.py:855\u001b[0m, in \u001b[0;36mOneHotEncoder.fit_transform\u001b[0;34m(self, X, y)\u001b[0m\n\u001b[1;32m    <a href='file:///home/hdd_n/mambaforge/envs/rapids-22.04/lib/python3.9/site-packages/sklearn/preprocessing/_encoders.py?line=832'>833</a>\u001b[0m \u001b[39m\"\"\"\u001b[39;00m\n\u001b[1;32m    <a href='file:///home/hdd_n/mambaforge/envs/rapids-22.04/lib/python3.9/site-packages/sklearn/preprocessing/_encoders.py?line=833'>834</a>\u001b[0m \u001b[39mFit OneHotEncoder to X, then transform X.\u001b[39;00m\n\u001b[1;32m    <a href='file:///home/hdd_n/mambaforge/envs/rapids-22.04/lib/python3.9/site-packages/sklearn/preprocessing/_encoders.py?line=834'>835</a>\u001b[0m \n\u001b[0;32m   (...)\u001b[0m\n\u001b[1;32m    <a href='file:///home/hdd_n/mambaforge/envs/rapids-22.04/lib/python3.9/site-packages/sklearn/preprocessing/_encoders.py?line=851'>852</a>\u001b[0m \u001b[39m    returned.\u001b[39;00m\n\u001b[1;32m    <a href='file:///home/hdd_n/mambaforge/envs/rapids-22.04/lib/python3.9/site-packages/sklearn/preprocessing/_encoders.py?line=852'>853</a>\u001b[0m \u001b[39m\"\"\"\u001b[39;00m\n\u001b[1;32m    <a href='file:///home/hdd_n/mambaforge/envs/rapids-22.04/lib/python3.9/site-packages/sklearn/preprocessing/_encoders.py?line=853'>854</a>\u001b[0m \u001b[39mself\u001b[39m\u001b[39m.\u001b[39m_validate_keywords()\n\u001b[0;32m--> <a href='file:///home/hdd_n/mambaforge/envs/rapids-22.04/lib/python3.9/site-packages/sklearn/preprocessing/_encoders.py?line=854'>855</a>\u001b[0m \u001b[39mreturn\u001b[39;00m \u001b[39msuper\u001b[39;49m()\u001b[39m.\u001b[39;49mfit_transform(X, y)\n",
      "File \u001b[0;32m~/mambaforge/envs/rapids-22.04/lib/python3.9/site-packages/sklearn/base.py:867\u001b[0m, in \u001b[0;36mTransformerMixin.fit_transform\u001b[0;34m(self, X, y, **fit_params)\u001b[0m\n\u001b[1;32m    <a href='file:///home/hdd_n/mambaforge/envs/rapids-22.04/lib/python3.9/site-packages/sklearn/base.py?line=862'>863</a>\u001b[0m \u001b[39m# non-optimized default implementation; override when a better\u001b[39;00m\n\u001b[1;32m    <a href='file:///home/hdd_n/mambaforge/envs/rapids-22.04/lib/python3.9/site-packages/sklearn/base.py?line=863'>864</a>\u001b[0m \u001b[39m# method is possible for a given clustering algorithm\u001b[39;00m\n\u001b[1;32m    <a href='file:///home/hdd_n/mambaforge/envs/rapids-22.04/lib/python3.9/site-packages/sklearn/base.py?line=864'>865</a>\u001b[0m \u001b[39mif\u001b[39;00m y \u001b[39mis\u001b[39;00m \u001b[39mNone\u001b[39;00m:\n\u001b[1;32m    <a href='file:///home/hdd_n/mambaforge/envs/rapids-22.04/lib/python3.9/site-packages/sklearn/base.py?line=865'>866</a>\u001b[0m     \u001b[39m# fit method of arity 1 (unsupervised transformation)\u001b[39;00m\n\u001b[0;32m--> <a href='file:///home/hdd_n/mambaforge/envs/rapids-22.04/lib/python3.9/site-packages/sklearn/base.py?line=866'>867</a>\u001b[0m     \u001b[39mreturn\u001b[39;00m \u001b[39mself\u001b[39;49m\u001b[39m.\u001b[39;49mfit(X, \u001b[39m*\u001b[39;49m\u001b[39m*\u001b[39;49mfit_params)\u001b[39m.\u001b[39mtransform(X)\n\u001b[1;32m    <a href='file:///home/hdd_n/mambaforge/envs/rapids-22.04/lib/python3.9/site-packages/sklearn/base.py?line=867'>868</a>\u001b[0m \u001b[39melse\u001b[39;00m:\n\u001b[1;32m    <a href='file:///home/hdd_n/mambaforge/envs/rapids-22.04/lib/python3.9/site-packages/sklearn/base.py?line=868'>869</a>\u001b[0m     \u001b[39m# fit method of arity 2 (supervised transformation)\u001b[39;00m\n\u001b[1;32m    <a href='file:///home/hdd_n/mambaforge/envs/rapids-22.04/lib/python3.9/site-packages/sklearn/base.py?line=869'>870</a>\u001b[0m     \u001b[39mreturn\u001b[39;00m \u001b[39mself\u001b[39m\u001b[39m.\u001b[39mfit(X, y, \u001b[39m*\u001b[39m\u001b[39m*\u001b[39mfit_params)\u001b[39m.\u001b[39mtransform(X)\n",
      "File \u001b[0;32m~/mambaforge/envs/rapids-22.04/lib/python3.9/site-packages/sklearn/preprocessing/_encoders.py:818\u001b[0m, in \u001b[0;36mOneHotEncoder.fit\u001b[0;34m(self, X, y)\u001b[0m\n\u001b[1;32m    <a href='file:///home/hdd_n/mambaforge/envs/rapids-22.04/lib/python3.9/site-packages/sklearn/preprocessing/_encoders.py?line=799'>800</a>\u001b[0m \u001b[39m\"\"\"\u001b[39;00m\n\u001b[1;32m    <a href='file:///home/hdd_n/mambaforge/envs/rapids-22.04/lib/python3.9/site-packages/sklearn/preprocessing/_encoders.py?line=800'>801</a>\u001b[0m \u001b[39mFit OneHotEncoder to X.\u001b[39;00m\n\u001b[1;32m    <a href='file:///home/hdd_n/mambaforge/envs/rapids-22.04/lib/python3.9/site-packages/sklearn/preprocessing/_encoders.py?line=801'>802</a>\u001b[0m \n\u001b[0;32m   (...)\u001b[0m\n\u001b[1;32m    <a href='file:///home/hdd_n/mambaforge/envs/rapids-22.04/lib/python3.9/site-packages/sklearn/preprocessing/_encoders.py?line=814'>815</a>\u001b[0m \u001b[39m    Fitted encoder.\u001b[39;00m\n\u001b[1;32m    <a href='file:///home/hdd_n/mambaforge/envs/rapids-22.04/lib/python3.9/site-packages/sklearn/preprocessing/_encoders.py?line=815'>816</a>\u001b[0m \u001b[39m\"\"\"\u001b[39;00m\n\u001b[1;32m    <a href='file:///home/hdd_n/mambaforge/envs/rapids-22.04/lib/python3.9/site-packages/sklearn/preprocessing/_encoders.py?line=816'>817</a>\u001b[0m \u001b[39mself\u001b[39m\u001b[39m.\u001b[39m_validate_keywords()\n\u001b[0;32m--> <a href='file:///home/hdd_n/mambaforge/envs/rapids-22.04/lib/python3.9/site-packages/sklearn/preprocessing/_encoders.py?line=817'>818</a>\u001b[0m fit_results \u001b[39m=\u001b[39m \u001b[39mself\u001b[39;49m\u001b[39m.\u001b[39;49m_fit(\n\u001b[1;32m    <a href='file:///home/hdd_n/mambaforge/envs/rapids-22.04/lib/python3.9/site-packages/sklearn/preprocessing/_encoders.py?line=818'>819</a>\u001b[0m     X,\n\u001b[1;32m    <a href='file:///home/hdd_n/mambaforge/envs/rapids-22.04/lib/python3.9/site-packages/sklearn/preprocessing/_encoders.py?line=819'>820</a>\u001b[0m     handle_unknown\u001b[39m=\u001b[39;49m\u001b[39mself\u001b[39;49m\u001b[39m.\u001b[39;49mhandle_unknown,\n\u001b[1;32m    <a href='file:///home/hdd_n/mambaforge/envs/rapids-22.04/lib/python3.9/site-packages/sklearn/preprocessing/_encoders.py?line=820'>821</a>\u001b[0m     force_all_finite\u001b[39m=\u001b[39;49m\u001b[39m\"\u001b[39;49m\u001b[39mallow-nan\u001b[39;49m\u001b[39m\"\u001b[39;49m,\n\u001b[1;32m    <a href='file:///home/hdd_n/mambaforge/envs/rapids-22.04/lib/python3.9/site-packages/sklearn/preprocessing/_encoders.py?line=821'>822</a>\u001b[0m     return_counts\u001b[39m=\u001b[39;49m\u001b[39mself\u001b[39;49m\u001b[39m.\u001b[39;49m_infrequent_enabled,\n\u001b[1;32m    <a href='file:///home/hdd_n/mambaforge/envs/rapids-22.04/lib/python3.9/site-packages/sklearn/preprocessing/_encoders.py?line=822'>823</a>\u001b[0m )\n\u001b[1;32m    <a href='file:///home/hdd_n/mambaforge/envs/rapids-22.04/lib/python3.9/site-packages/sklearn/preprocessing/_encoders.py?line=823'>824</a>\u001b[0m \u001b[39mif\u001b[39;00m \u001b[39mself\u001b[39m\u001b[39m.\u001b[39m_infrequent_enabled:\n\u001b[1;32m    <a href='file:///home/hdd_n/mambaforge/envs/rapids-22.04/lib/python3.9/site-packages/sklearn/preprocessing/_encoders.py?line=824'>825</a>\u001b[0m     \u001b[39mself\u001b[39m\u001b[39m.\u001b[39m_fit_infrequent_category_mapping(\n\u001b[1;32m    <a href='file:///home/hdd_n/mambaforge/envs/rapids-22.04/lib/python3.9/site-packages/sklearn/preprocessing/_encoders.py?line=825'>826</a>\u001b[0m         fit_results[\u001b[39m\"\u001b[39m\u001b[39mn_samples\u001b[39m\u001b[39m\"\u001b[39m], fit_results[\u001b[39m\"\u001b[39m\u001b[39mcategory_counts\u001b[39m\u001b[39m\"\u001b[39m]\n\u001b[1;32m    <a href='file:///home/hdd_n/mambaforge/envs/rapids-22.04/lib/python3.9/site-packages/sklearn/preprocessing/_encoders.py?line=826'>827</a>\u001b[0m     )\n",
      "File \u001b[0;32m~/mambaforge/envs/rapids-22.04/lib/python3.9/site-packages/sklearn/preprocessing/_encoders.py:80\u001b[0m, in \u001b[0;36m_BaseEncoder._fit\u001b[0;34m(self, X, handle_unknown, force_all_finite, return_counts)\u001b[0m\n\u001b[1;32m     <a href='file:///home/hdd_n/mambaforge/envs/rapids-22.04/lib/python3.9/site-packages/sklearn/preprocessing/_encoders.py?line=77'>78</a>\u001b[0m \u001b[39mself\u001b[39m\u001b[39m.\u001b[39m_check_n_features(X, reset\u001b[39m=\u001b[39m\u001b[39mTrue\u001b[39;00m)\n\u001b[1;32m     <a href='file:///home/hdd_n/mambaforge/envs/rapids-22.04/lib/python3.9/site-packages/sklearn/preprocessing/_encoders.py?line=78'>79</a>\u001b[0m \u001b[39mself\u001b[39m\u001b[39m.\u001b[39m_check_feature_names(X, reset\u001b[39m=\u001b[39m\u001b[39mTrue\u001b[39;00m)\n\u001b[0;32m---> <a href='file:///home/hdd_n/mambaforge/envs/rapids-22.04/lib/python3.9/site-packages/sklearn/preprocessing/_encoders.py?line=79'>80</a>\u001b[0m X_list, n_samples, n_features \u001b[39m=\u001b[39m \u001b[39mself\u001b[39;49m\u001b[39m.\u001b[39;49m_check_X(\n\u001b[1;32m     <a href='file:///home/hdd_n/mambaforge/envs/rapids-22.04/lib/python3.9/site-packages/sklearn/preprocessing/_encoders.py?line=80'>81</a>\u001b[0m     X, force_all_finite\u001b[39m=\u001b[39;49mforce_all_finite\n\u001b[1;32m     <a href='file:///home/hdd_n/mambaforge/envs/rapids-22.04/lib/python3.9/site-packages/sklearn/preprocessing/_encoders.py?line=81'>82</a>\u001b[0m )\n\u001b[1;32m     <a href='file:///home/hdd_n/mambaforge/envs/rapids-22.04/lib/python3.9/site-packages/sklearn/preprocessing/_encoders.py?line=82'>83</a>\u001b[0m \u001b[39mself\u001b[39m\u001b[39m.\u001b[39mn_features_in_ \u001b[39m=\u001b[39m n_features\n\u001b[1;32m     <a href='file:///home/hdd_n/mambaforge/envs/rapids-22.04/lib/python3.9/site-packages/sklearn/preprocessing/_encoders.py?line=84'>85</a>\u001b[0m \u001b[39mif\u001b[39;00m \u001b[39mself\u001b[39m\u001b[39m.\u001b[39mcategories \u001b[39m!=\u001b[39m \u001b[39m\"\u001b[39m\u001b[39mauto\u001b[39m\u001b[39m\"\u001b[39m:\n",
      "File \u001b[0;32m~/mambaforge/envs/rapids-22.04/lib/python3.9/site-packages/sklearn/preprocessing/_encoders.py:45\u001b[0m, in \u001b[0;36m_BaseEncoder._check_X\u001b[0;34m(self, X, force_all_finite)\u001b[0m\n\u001b[1;32m     <a href='file:///home/hdd_n/mambaforge/envs/rapids-22.04/lib/python3.9/site-packages/sklearn/preprocessing/_encoders.py?line=31'>32</a>\u001b[0m \u001b[39m\"\"\"\u001b[39;00m\n\u001b[1;32m     <a href='file:///home/hdd_n/mambaforge/envs/rapids-22.04/lib/python3.9/site-packages/sklearn/preprocessing/_encoders.py?line=32'>33</a>\u001b[0m \u001b[39mPerform custom check_array:\u001b[39;00m\n\u001b[1;32m     <a href='file:///home/hdd_n/mambaforge/envs/rapids-22.04/lib/python3.9/site-packages/sklearn/preprocessing/_encoders.py?line=33'>34</a>\u001b[0m \u001b[39m- convert list of strings to object dtype\u001b[39;00m\n\u001b[0;32m   (...)\u001b[0m\n\u001b[1;32m     <a href='file:///home/hdd_n/mambaforge/envs/rapids-22.04/lib/python3.9/site-packages/sklearn/preprocessing/_encoders.py?line=40'>41</a>\u001b[0m \n\u001b[1;32m     <a href='file:///home/hdd_n/mambaforge/envs/rapids-22.04/lib/python3.9/site-packages/sklearn/preprocessing/_encoders.py?line=41'>42</a>\u001b[0m \u001b[39m\"\"\"\u001b[39;00m\n\u001b[1;32m     <a href='file:///home/hdd_n/mambaforge/envs/rapids-22.04/lib/python3.9/site-packages/sklearn/preprocessing/_encoders.py?line=42'>43</a>\u001b[0m \u001b[39mif\u001b[39;00m \u001b[39mnot\u001b[39;00m (\u001b[39mhasattr\u001b[39m(X, \u001b[39m\"\u001b[39m\u001b[39miloc\u001b[39m\u001b[39m\"\u001b[39m) \u001b[39mand\u001b[39;00m \u001b[39mgetattr\u001b[39m(X, \u001b[39m\"\u001b[39m\u001b[39mndim\u001b[39m\u001b[39m\"\u001b[39m, \u001b[39m0\u001b[39m) \u001b[39m==\u001b[39m \u001b[39m2\u001b[39m):\n\u001b[1;32m     <a href='file:///home/hdd_n/mambaforge/envs/rapids-22.04/lib/python3.9/site-packages/sklearn/preprocessing/_encoders.py?line=43'>44</a>\u001b[0m     \u001b[39m# if not a dataframe, do normal check_array validation\u001b[39;00m\n\u001b[0;32m---> <a href='file:///home/hdd_n/mambaforge/envs/rapids-22.04/lib/python3.9/site-packages/sklearn/preprocessing/_encoders.py?line=44'>45</a>\u001b[0m     X_temp \u001b[39m=\u001b[39m check_array(X, dtype\u001b[39m=\u001b[39;49m\u001b[39mNone\u001b[39;49;00m, force_all_finite\u001b[39m=\u001b[39;49mforce_all_finite)\n\u001b[1;32m     <a href='file:///home/hdd_n/mambaforge/envs/rapids-22.04/lib/python3.9/site-packages/sklearn/preprocessing/_encoders.py?line=45'>46</a>\u001b[0m     \u001b[39mif\u001b[39;00m \u001b[39mnot\u001b[39;00m \u001b[39mhasattr\u001b[39m(X, \u001b[39m\"\u001b[39m\u001b[39mdtype\u001b[39m\u001b[39m\"\u001b[39m) \u001b[39mand\u001b[39;00m np\u001b[39m.\u001b[39missubdtype(X_temp\u001b[39m.\u001b[39mdtype, np\u001b[39m.\u001b[39mstr_):\n\u001b[1;32m     <a href='file:///home/hdd_n/mambaforge/envs/rapids-22.04/lib/python3.9/site-packages/sklearn/preprocessing/_encoders.py?line=46'>47</a>\u001b[0m         X \u001b[39m=\u001b[39m check_array(X, dtype\u001b[39m=\u001b[39m\u001b[39mobject\u001b[39m, force_all_finite\u001b[39m=\u001b[39mforce_all_finite)\n",
      "File \u001b[0;32m~/mambaforge/envs/rapids-22.04/lib/python3.9/site-packages/sklearn/utils/validation.py:879\u001b[0m, in \u001b[0;36mcheck_array\u001b[0;34m(array, accept_sparse, accept_large_sparse, dtype, order, copy, force_all_finite, ensure_2d, allow_nd, ensure_min_samples, ensure_min_features, estimator, input_name)\u001b[0m\n\u001b[1;32m    <a href='file:///home/hdd_n/mambaforge/envs/rapids-22.04/lib/python3.9/site-packages/sklearn/utils/validation.py?line=876'>877</a>\u001b[0m     \u001b[39m# If input is 1D raise error\u001b[39;00m\n\u001b[1;32m    <a href='file:///home/hdd_n/mambaforge/envs/rapids-22.04/lib/python3.9/site-packages/sklearn/utils/validation.py?line=877'>878</a>\u001b[0m     \u001b[39mif\u001b[39;00m array\u001b[39m.\u001b[39mndim \u001b[39m==\u001b[39m \u001b[39m1\u001b[39m:\n\u001b[0;32m--> <a href='file:///home/hdd_n/mambaforge/envs/rapids-22.04/lib/python3.9/site-packages/sklearn/utils/validation.py?line=878'>879</a>\u001b[0m         \u001b[39mraise\u001b[39;00m \u001b[39mValueError\u001b[39;00m(\n\u001b[1;32m    <a href='file:///home/hdd_n/mambaforge/envs/rapids-22.04/lib/python3.9/site-packages/sklearn/utils/validation.py?line=879'>880</a>\u001b[0m             \u001b[39m\"\u001b[39m\u001b[39mExpected 2D array, got 1D array instead:\u001b[39m\u001b[39m\\n\u001b[39;00m\u001b[39marray=\u001b[39m\u001b[39m{}\u001b[39;00m\u001b[39m.\u001b[39m\u001b[39m\\n\u001b[39;00m\u001b[39m\"\u001b[39m\n\u001b[1;32m    <a href='file:///home/hdd_n/mambaforge/envs/rapids-22.04/lib/python3.9/site-packages/sklearn/utils/validation.py?line=880'>881</a>\u001b[0m             \u001b[39m\"\u001b[39m\u001b[39mReshape your data either using array.reshape(-1, 1) if \u001b[39m\u001b[39m\"\u001b[39m\n\u001b[1;32m    <a href='file:///home/hdd_n/mambaforge/envs/rapids-22.04/lib/python3.9/site-packages/sklearn/utils/validation.py?line=881'>882</a>\u001b[0m             \u001b[39m\"\u001b[39m\u001b[39myour data has a single feature or array.reshape(1, -1) \u001b[39m\u001b[39m\"\u001b[39m\n\u001b[1;32m    <a href='file:///home/hdd_n/mambaforge/envs/rapids-22.04/lib/python3.9/site-packages/sklearn/utils/validation.py?line=882'>883</a>\u001b[0m             \u001b[39m\"\u001b[39m\u001b[39mif it contains a single sample.\u001b[39m\u001b[39m\"\u001b[39m\u001b[39m.\u001b[39mformat(array)\n\u001b[1;32m    <a href='file:///home/hdd_n/mambaforge/envs/rapids-22.04/lib/python3.9/site-packages/sklearn/utils/validation.py?line=883'>884</a>\u001b[0m         )\n\u001b[1;32m    <a href='file:///home/hdd_n/mambaforge/envs/rapids-22.04/lib/python3.9/site-packages/sklearn/utils/validation.py?line=885'>886</a>\u001b[0m \u001b[39mif\u001b[39;00m dtype_numeric \u001b[39mand\u001b[39;00m array\u001b[39m.\u001b[39mdtype\u001b[39m.\u001b[39mkind \u001b[39min\u001b[39;00m \u001b[39m\"\u001b[39m\u001b[39mUSV\u001b[39m\u001b[39m\"\u001b[39m:\n\u001b[1;32m    <a href='file:///home/hdd_n/mambaforge/envs/rapids-22.04/lib/python3.9/site-packages/sklearn/utils/validation.py?line=886'>887</a>\u001b[0m     \u001b[39mraise\u001b[39;00m \u001b[39mValueError\u001b[39;00m(\n\u001b[1;32m    <a href='file:///home/hdd_n/mambaforge/envs/rapids-22.04/lib/python3.9/site-packages/sklearn/utils/validation.py?line=887'>888</a>\u001b[0m         \u001b[39m\"\u001b[39m\u001b[39mdtype=\u001b[39m\u001b[39m'\u001b[39m\u001b[39mnumeric\u001b[39m\u001b[39m'\u001b[39m\u001b[39m is not compatible with arrays of bytes/strings.\u001b[39m\u001b[39m\"\u001b[39m\n\u001b[1;32m    <a href='file:///home/hdd_n/mambaforge/envs/rapids-22.04/lib/python3.9/site-packages/sklearn/utils/validation.py?line=888'>889</a>\u001b[0m         \u001b[39m\"\u001b[39m\u001b[39mConvert your data to numeric values explicitly instead.\u001b[39m\u001b[39m\"\u001b[39m\n\u001b[1;32m    <a href='file:///home/hdd_n/mambaforge/envs/rapids-22.04/lib/python3.9/site-packages/sklearn/utils/validation.py?line=889'>890</a>\u001b[0m     )\n",
      "\u001b[0;31mValueError\u001b[0m: Expected 2D array, got 1D array instead:\narray=[1 1 1 ... 1 1 1].\nReshape your data either using array.reshape(-1, 1) if your data has a single feature or array.reshape(1, -1) if it contains a single sample."
     ]
    }
   ],
   "source": [
    "\n",
    "ohe_pred = OneHotEncoder()\n",
    "ohe_pred.fit_transform(y_pred)"
   ]
  },
  {
   "cell_type": "code",
   "execution_count": 73,
   "metadata": {},
   "outputs": [
    {
     "data": {
      "text/plain": [
       "1865"
      ]
     },
     "execution_count": 73,
     "metadata": {},
     "output_type": "execute_result"
    }
   ],
   "source": [
    "\n",
    "gc.collect()"
   ]
  },
  {
   "cell_type": "code",
   "execution_count": 72,
   "metadata": {},
   "outputs": [
    {
     "ename": "NameError",
     "evalue": "name 'model' is not defined",
     "output_type": "error",
     "traceback": [
      "\u001b[0;31m---------------------------------------------------------------------------\u001b[0m",
      "\u001b[0;31mNameError\u001b[0m                                 Traceback (most recent call last)",
      "\u001b[1;32m/home/hdd_n/Desktop/hnnaharendt/feedback-kaggle/experimentation.ipynb Cell 37'\u001b[0m in \u001b[0;36m<cell line: 1>\u001b[0;34m()\u001b[0m\n\u001b[0;32m----> <a href='vscode-notebook-cell:/home/hdd_n/Desktop/hnnaharendt/feedback-kaggle/experimentation.ipynb#ch0000029?line=0'>1</a>\u001b[0m \u001b[39mdel\u001b[39;00m model,\n\u001b[1;32m      <a href='vscode-notebook-cell:/home/hdd_n/Desktop/hnnaharendt/feedback-kaggle/experimentation.ipynb#ch0000029?line=1'>2</a>\u001b[0m \u001b[39mdel\u001b[39;00m X_test, Y_test\n\u001b[1;32m      <a href='vscode-notebook-cell:/home/hdd_n/Desktop/hnnaharendt/feedback-kaggle/experimentation.ipynb#ch0000029?line=2'>3</a>\u001b[0m \u001b[39mdel\u001b[39;00m X_train, Y_train\n",
      "\u001b[0;31mNameError\u001b[0m: name 'model' is not defined"
     ]
    }
   ],
   "source": [
    "del model,\n",
    "del X_test, Y_test\n",
    "del X_train, Y_train\n"
   ]
  },
  {
   "cell_type": "code",
   "execution_count": null,
   "metadata": {},
   "outputs": [],
   "source": []
  }
 ],
 "metadata": {
  "kernelspec": {
   "display_name": "Python 3.9.4 64-bit ('3.9.4')",
   "language": "python",
   "name": "python3"
  },
  "language_info": {
   "codemirror_mode": {
    "name": "ipython",
    "version": 3
   },
   "file_extension": ".py",
   "mimetype": "text/x-python",
   "name": "python",
   "nbconvert_exporter": "python",
   "pygments_lexer": "ipython3",
   "version": "3.9.4"
  },
  "orig_nbformat": 4,
  "vscode": {
   "interpreter": {
    "hash": "898b9fde3f38ecfff2a375b98ee5b542faf22720b41d1dad24e57351888ef9a0"
   }
  }
 },
 "nbformat": 4,
 "nbformat_minor": 2
}
